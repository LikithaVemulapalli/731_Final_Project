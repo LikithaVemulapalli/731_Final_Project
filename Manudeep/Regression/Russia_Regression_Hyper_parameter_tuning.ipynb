{
 "cells": [
  {
   "cell_type": "code",
   "execution_count": 2,
   "metadata": {},
   "outputs": [],
   "source": [
    "import pandas as pd\n",
    "import numpy as np\n",
    "import seaborn as sns\n",
    "\n",
    "import matplotlib.pyplot as plt\n",
    "import warnings\n",
    "\n",
    "warnings.filterwarnings(\"ignore\")\n",
    "%matplotlib inline\n",
    "\n",
    "\n",
    "from math import sqrt\n",
    "from sklearn.neighbors import KNeighborsRegressor\n",
    "from sklearn.model_selection import cross_val_score\n",
    "from sklearn.metrics import accuracy_score\n",
    "from sklearn.metrics import mean_squared_error\n",
    "from sklearn.metrics import r2_score"
   ]
  },
  {
   "cell_type": "markdown",
   "metadata": {},
   "source": [
    "### Data"
   ]
  },
  {
   "cell_type": "code",
   "execution_count": 3,
   "metadata": {},
   "outputs": [
    {
     "data": {
      "text/html": [
       "<div>\n",
       "<style scoped>\n",
       "    .dataframe tbody tr th:only-of-type {\n",
       "        vertical-align: middle;\n",
       "    }\n",
       "\n",
       "    .dataframe tbody tr th {\n",
       "        vertical-align: top;\n",
       "    }\n",
       "\n",
       "    .dataframe thead th {\n",
       "        text-align: right;\n",
       "    }\n",
       "</style>\n",
       "<table border=\"1\" class=\"dataframe\">\n",
       "  <thead>\n",
       "    <tr style=\"text-align: right;\">\n",
       "      <th></th>\n",
       "      <th>Name</th>\n",
       "      <th>Date time</th>\n",
       "      <th>Maximum Temperature</th>\n",
       "      <th>Minimum Temperature</th>\n",
       "      <th>Temperature</th>\n",
       "      <th>Precipitation</th>\n",
       "      <th>Wind Speed</th>\n",
       "      <th>Visibility</th>\n",
       "      <th>Cloud Cover</th>\n",
       "      <th>Relative Humidity</th>\n",
       "      <th>Conditions</th>\n",
       "      <th>Clear</th>\n",
       "      <th>Overcast</th>\n",
       "      <th>Partially cloudy</th>\n",
       "      <th>Rain</th>\n",
       "      <th>Rain, Overcast</th>\n",
       "      <th>Rain, Partially cloudy</th>\n",
       "      <th>Snow</th>\n",
       "      <th>Snow, Overcast</th>\n",
       "      <th>Snow, Partially cloudy</th>\n",
       "    </tr>\n",
       "  </thead>\n",
       "  <tbody>\n",
       "    <tr>\n",
       "      <th>0</th>\n",
       "      <td>russia</td>\n",
       "      <td>01/01/1970</td>\n",
       "      <td>10.1</td>\n",
       "      <td>-2.1</td>\n",
       "      <td>4.7</td>\n",
       "      <td>0.0</td>\n",
       "      <td>13.9</td>\n",
       "      <td>6.2</td>\n",
       "      <td>48.3</td>\n",
       "      <td>84.54</td>\n",
       "      <td>Partially cloudy</td>\n",
       "      <td>0</td>\n",
       "      <td>0</td>\n",
       "      <td>1</td>\n",
       "      <td>0</td>\n",
       "      <td>0</td>\n",
       "      <td>0</td>\n",
       "      <td>0</td>\n",
       "      <td>0</td>\n",
       "      <td>0</td>\n",
       "    </tr>\n",
       "    <tr>\n",
       "      <th>1</th>\n",
       "      <td>russia</td>\n",
       "      <td>01/02/1970</td>\n",
       "      <td>19.1</td>\n",
       "      <td>-3.9</td>\n",
       "      <td>10.4</td>\n",
       "      <td>0.0</td>\n",
       "      <td>18.3</td>\n",
       "      <td>3.1</td>\n",
       "      <td>87.5</td>\n",
       "      <td>89.14</td>\n",
       "      <td>Overcast</td>\n",
       "      <td>0</td>\n",
       "      <td>1</td>\n",
       "      <td>0</td>\n",
       "      <td>0</td>\n",
       "      <td>0</td>\n",
       "      <td>0</td>\n",
       "      <td>0</td>\n",
       "      <td>0</td>\n",
       "      <td>0</td>\n",
       "    </tr>\n",
       "    <tr>\n",
       "      <th>2</th>\n",
       "      <td>russia</td>\n",
       "      <td>01/03/1970</td>\n",
       "      <td>28.1</td>\n",
       "      <td>20.9</td>\n",
       "      <td>25.5</td>\n",
       "      <td>0.0</td>\n",
       "      <td>18.3</td>\n",
       "      <td>3.7</td>\n",
       "      <td>92.5</td>\n",
       "      <td>91.09</td>\n",
       "      <td>Overcast</td>\n",
       "      <td>0</td>\n",
       "      <td>1</td>\n",
       "      <td>0</td>\n",
       "      <td>0</td>\n",
       "      <td>0</td>\n",
       "      <td>0</td>\n",
       "      <td>0</td>\n",
       "      <td>0</td>\n",
       "      <td>0</td>\n",
       "    </tr>\n",
       "    <tr>\n",
       "      <th>3</th>\n",
       "      <td>russia</td>\n",
       "      <td>01/04/1970</td>\n",
       "      <td>26.9</td>\n",
       "      <td>20.9</td>\n",
       "      <td>22.7</td>\n",
       "      <td>0.0</td>\n",
       "      <td>16.1</td>\n",
       "      <td>3.7</td>\n",
       "      <td>97.5</td>\n",
       "      <td>89.49</td>\n",
       "      <td>Overcast</td>\n",
       "      <td>0</td>\n",
       "      <td>1</td>\n",
       "      <td>0</td>\n",
       "      <td>0</td>\n",
       "      <td>0</td>\n",
       "      <td>0</td>\n",
       "      <td>0</td>\n",
       "      <td>0</td>\n",
       "      <td>0</td>\n",
       "    </tr>\n",
       "    <tr>\n",
       "      <th>4</th>\n",
       "      <td>russia</td>\n",
       "      <td>01/05/1970</td>\n",
       "      <td>32.1</td>\n",
       "      <td>28.1</td>\n",
       "      <td>29.5</td>\n",
       "      <td>0.0</td>\n",
       "      <td>16.1</td>\n",
       "      <td>2.7</td>\n",
       "      <td>100.0</td>\n",
       "      <td>92.43</td>\n",
       "      <td>Overcast</td>\n",
       "      <td>0</td>\n",
       "      <td>1</td>\n",
       "      <td>0</td>\n",
       "      <td>0</td>\n",
       "      <td>0</td>\n",
       "      <td>0</td>\n",
       "      <td>0</td>\n",
       "      <td>0</td>\n",
       "      <td>0</td>\n",
       "    </tr>\n",
       "  </tbody>\n",
       "</table>\n",
       "</div>"
      ],
      "text/plain": [
       "     Name   Date time  Maximum Temperature  Minimum Temperature  Temperature  \\\n",
       "0  russia  01/01/1970                 10.1                 -2.1          4.7   \n",
       "1  russia  01/02/1970                 19.1                 -3.9         10.4   \n",
       "2  russia  01/03/1970                 28.1                 20.9         25.5   \n",
       "3  russia  01/04/1970                 26.9                 20.9         22.7   \n",
       "4  russia  01/05/1970                 32.1                 28.1         29.5   \n",
       "\n",
       "   Precipitation  Wind Speed  Visibility  Cloud Cover  Relative Humidity  \\\n",
       "0            0.0        13.9         6.2         48.3              84.54   \n",
       "1            0.0        18.3         3.1         87.5              89.14   \n",
       "2            0.0        18.3         3.7         92.5              91.09   \n",
       "3            0.0        16.1         3.7         97.5              89.49   \n",
       "4            0.0        16.1         2.7        100.0              92.43   \n",
       "\n",
       "         Conditions  Clear  Overcast  Partially cloudy  Rain  Rain, Overcast  \\\n",
       "0  Partially cloudy      0         0                 1     0               0   \n",
       "1          Overcast      0         1                 0     0               0   \n",
       "2          Overcast      0         1                 0     0               0   \n",
       "3          Overcast      0         1                 0     0               0   \n",
       "4          Overcast      0         1                 0     0               0   \n",
       "\n",
       "   Rain, Partially cloudy  Snow  Snow, Overcast  Snow, Partially cloudy  \n",
       "0                       0     0               0                       0  \n",
       "1                       0     0               0                       0  \n",
       "2                       0     0               0                       0  \n",
       "3                       0     0               0                       0  \n",
       "4                       0     0               0                       0  "
      ]
     },
     "execution_count": 3,
     "metadata": {},
     "output_type": "execute_result"
    }
   ],
   "source": [
    "df_russia = pd.read_csv(\"russia_cleaned.csv\")\n",
    "df_russia.drop(columns=['Unnamed: 0'],inplace=True)\n",
    "df_russia.head()"
   ]
  },
  {
   "cell_type": "code",
   "execution_count": 4,
   "metadata": {},
   "outputs": [
    {
     "data": {
      "text/plain": [
       "(18019, 20)"
      ]
     },
     "execution_count": 4,
     "metadata": {},
     "output_type": "execute_result"
    }
   ],
   "source": [
    "df_russia.shape"
   ]
  },
  {
   "cell_type": "markdown",
   "metadata": {},
   "source": [
    "## K-NN Regression for Temperature"
   ]
  },
  {
   "cell_type": "markdown",
   "metadata": {},
   "source": [
    "### Create Train and Test set"
   ]
  },
  {
   "cell_type": "code",
   "execution_count": 5,
   "metadata": {},
   "outputs": [],
   "source": [
    "#Considering Visibilty, Cloud Cover and Humidity\n",
    "X_temp=df_russia.drop(columns=['Maximum Temperature','Minimum Temperature','Temperature','Precipitation','Conditions',\n",
    "                            'Name','Date time','Wind Speed'],axis=1)\n",
    "Y_temp=df_russia.Temperature"
   ]
  },
  {
   "cell_type": "code",
   "execution_count": 6,
   "metadata": {},
   "outputs": [],
   "source": [
    "from sklearn.model_selection import train_test_split\n",
    "train_X_temp,test_X_temp,train_y_temp,test_y_temp = train_test_split(X_temp,Y_temp,test_size=0.4)"
   ]
  },
  {
   "cell_type": "code",
   "execution_count": 7,
   "metadata": {},
   "outputs": [
    {
     "data": {
      "text/html": [
       "<div>\n",
       "<style scoped>\n",
       "    .dataframe tbody tr th:only-of-type {\n",
       "        vertical-align: middle;\n",
       "    }\n",
       "\n",
       "    .dataframe tbody tr th {\n",
       "        vertical-align: top;\n",
       "    }\n",
       "\n",
       "    .dataframe thead th {\n",
       "        text-align: right;\n",
       "    }\n",
       "</style>\n",
       "<table border=\"1\" class=\"dataframe\">\n",
       "  <thead>\n",
       "    <tr style=\"text-align: right;\">\n",
       "      <th></th>\n",
       "      <th>Visibility</th>\n",
       "      <th>Cloud Cover</th>\n",
       "      <th>Relative Humidity</th>\n",
       "      <th>Clear</th>\n",
       "      <th>Overcast</th>\n",
       "      <th>Partially cloudy</th>\n",
       "      <th>Rain</th>\n",
       "      <th>Rain, Overcast</th>\n",
       "      <th>Rain, Partially cloudy</th>\n",
       "      <th>Snow</th>\n",
       "      <th>Snow, Overcast</th>\n",
       "      <th>Snow, Partially cloudy</th>\n",
       "    </tr>\n",
       "  </thead>\n",
       "  <tbody>\n",
       "    <tr>\n",
       "      <th>5212</th>\n",
       "      <td>6.3</td>\n",
       "      <td>77.3</td>\n",
       "      <td>71.27</td>\n",
       "      <td>0</td>\n",
       "      <td>1</td>\n",
       "      <td>0</td>\n",
       "      <td>0</td>\n",
       "      <td>0</td>\n",
       "      <td>0</td>\n",
       "      <td>0</td>\n",
       "      <td>0</td>\n",
       "      <td>0</td>\n",
       "    </tr>\n",
       "    <tr>\n",
       "      <th>7976</th>\n",
       "      <td>6.2</td>\n",
       "      <td>0.0</td>\n",
       "      <td>57.11</td>\n",
       "      <td>1</td>\n",
       "      <td>0</td>\n",
       "      <td>0</td>\n",
       "      <td>0</td>\n",
       "      <td>0</td>\n",
       "      <td>0</td>\n",
       "      <td>0</td>\n",
       "      <td>0</td>\n",
       "      <td>0</td>\n",
       "    </tr>\n",
       "    <tr>\n",
       "      <th>9846</th>\n",
       "      <td>6.4</td>\n",
       "      <td>46.8</td>\n",
       "      <td>62.03</td>\n",
       "      <td>0</td>\n",
       "      <td>0</td>\n",
       "      <td>1</td>\n",
       "      <td>0</td>\n",
       "      <td>0</td>\n",
       "      <td>0</td>\n",
       "      <td>0</td>\n",
       "      <td>0</td>\n",
       "      <td>0</td>\n",
       "    </tr>\n",
       "    <tr>\n",
       "      <th>6708</th>\n",
       "      <td>4.2</td>\n",
       "      <td>96.7</td>\n",
       "      <td>91.68</td>\n",
       "      <td>0</td>\n",
       "      <td>1</td>\n",
       "      <td>0</td>\n",
       "      <td>0</td>\n",
       "      <td>0</td>\n",
       "      <td>0</td>\n",
       "      <td>0</td>\n",
       "      <td>0</td>\n",
       "      <td>0</td>\n",
       "    </tr>\n",
       "    <tr>\n",
       "      <th>5510</th>\n",
       "      <td>6.0</td>\n",
       "      <td>9.7</td>\n",
       "      <td>67.77</td>\n",
       "      <td>1</td>\n",
       "      <td>0</td>\n",
       "      <td>0</td>\n",
       "      <td>0</td>\n",
       "      <td>0</td>\n",
       "      <td>0</td>\n",
       "      <td>0</td>\n",
       "      <td>0</td>\n",
       "      <td>0</td>\n",
       "    </tr>\n",
       "  </tbody>\n",
       "</table>\n",
       "</div>"
      ],
      "text/plain": [
       "      Visibility  Cloud Cover  Relative Humidity  Clear  Overcast  \\\n",
       "5212         6.3         77.3              71.27      0         1   \n",
       "7976         6.2          0.0              57.11      1         0   \n",
       "9846         6.4         46.8              62.03      0         0   \n",
       "6708         4.2         96.7              91.68      0         1   \n",
       "5510         6.0          9.7              67.77      1         0   \n",
       "\n",
       "      Partially cloudy  Rain  Rain, Overcast  Rain, Partially cloudy  Snow  \\\n",
       "5212                 0     0               0                       0     0   \n",
       "7976                 0     0               0                       0     0   \n",
       "9846                 1     0               0                       0     0   \n",
       "6708                 0     0               0                       0     0   \n",
       "5510                 0     0               0                       0     0   \n",
       "\n",
       "      Snow, Overcast  Snow, Partially cloudy  \n",
       "5212               0                       0  \n",
       "7976               0                       0  \n",
       "9846               0                       0  \n",
       "6708               0                       0  \n",
       "5510               0                       0  "
      ]
     },
     "execution_count": 7,
     "metadata": {},
     "output_type": "execute_result"
    }
   ],
   "source": [
    "train_X_temp.head()"
   ]
  },
  {
   "cell_type": "markdown",
   "metadata": {},
   "source": [
    "### Preprocessing – Scaling the features"
   ]
  },
  {
   "cell_type": "code",
   "execution_count": 9,
   "metadata": {},
   "outputs": [],
   "source": [
    "from sklearn.preprocessing import StandardScaler\n",
    "from sklearn.preprocessing import MinMaxScaler\n",
    "x_scaled= MinMaxScaler()\n",
    "train_X_temp[['Cloud Cover','Relative Humidity','Visibility']] = x_scaled.fit_transform(train_X_temp[['Cloud Cover','Relative Humidity','Visibility']])\n",
    "\n",
    "x_test_scaled= MinMaxScaler()\n",
    "test_X_temp[['Cloud Cover','Relative Humidity','Visibility']]=x_test_scaled.fit_transform(test_X_temp[['Cloud Cover','Relative Humidity','Visibility']])"
   ]
  },
  {
   "cell_type": "code",
   "execution_count": 10,
   "metadata": {},
   "outputs": [
    {
     "data": {
      "text/plain": [
       "(10811, 12)"
      ]
     },
     "execution_count": 10,
     "metadata": {},
     "output_type": "execute_result"
    }
   ],
   "source": [
    "train_X_temp.shape"
   ]
  },
  {
   "cell_type": "code",
   "execution_count": 11,
   "metadata": {},
   "outputs": [
    {
     "data": {
      "text/plain": [
       "(7208, 12)"
      ]
     },
     "execution_count": 11,
     "metadata": {},
     "output_type": "execute_result"
    }
   ],
   "source": [
    "test_X_temp.shape"
   ]
  },
  {
   "cell_type": "markdown",
   "metadata": {},
   "source": [
    "## Implementing RandomizedSearchCV"
   ]
  },
  {
   "cell_type": "markdown",
   "metadata": {},
   "source": [
    "### For Decision Tree"
   ]
  },
  {
   "cell_type": "code",
   "execution_count": 12,
   "metadata": {},
   "outputs": [
    {
     "name": "stdout",
     "output_type": "stream",
     "text": [
      "Best Hyper Parameters: {'min_samples_split': 11, 'min_samples_leaf': 7, 'max_features': 'auto', 'max_depth': 8}\n"
     ]
    }
   ],
   "source": [
    "#Note: Max_depth can be done\n",
    "from sklearn.tree import DecisionTreeRegressor\n",
    "from sklearn.model_selection import RandomizedSearchCV\n",
    "from sklearn.model_selection import GridSearchCV\n",
    "dc= DecisionTreeRegressor(random_state=1234)\n",
    "params = {'max_features': ['auto', 'sqrt', 'log2'],\n",
    "          'min_samples_split': [2,3,4,5,6,7,8,9,10,11,12,13,14,15], \n",
    "          'min_samples_leaf':[1,2,3,4,5,6,7,8,9,10,11],\n",
    "          'max_depth':[i for i in range(1,15)]}\n",
    "#Making models with hyper parameters sets\n",
    "dc = RandomizedSearchCV(dc, param_distributions=params,cv=10, n_jobs=-1)\n",
    "#Learning\n",
    "dc.fit(train_X_temp,train_y_temp)\n",
    "#The best hyper parameters set\n",
    "print(\"Best Hyper Parameters:\",dc.best_params_)"
   ]
  },
  {
   "cell_type": "markdown",
   "metadata": {},
   "source": [
    "### For Knn"
   ]
  },
  {
   "cell_type": "code",
   "execution_count": 13,
   "metadata": {},
   "outputs": [
    {
     "data": {
      "text/plain": [
       "{'weights': 'uniform',\n",
       " 'n_neighbors': 19,\n",
       " 'n_jobs': -1,\n",
       " 'leaf_size': 2,\n",
       " 'algorithm': 'brute'}"
      ]
     },
     "execution_count": 13,
     "metadata": {},
     "output_type": "execute_result"
    }
   ],
   "source": [
    "from sklearn.model_selection import GridSearchCV\n",
    "from sklearn.model_selection import RandomizedSearchCV\n",
    "knn = KNeighborsRegressor()\n",
    "params = {'n_neighbors':[i for i in range(5,20)],\n",
    "         'leaf_size':[1,2,3,5],\n",
    "          'weights':['uniform', 'distance'],\n",
    "          'algorithm':['auto', 'ball_tree','kd_tree','brute'],\n",
    "          'n_jobs':[-1]}\n",
    "\n",
    "\n",
    "knn = RandomizedSearchCV(knn,param_distributions=params,cv=10)\n",
    "knn.fit(train_X_temp,train_y_temp)\n",
    "knn.best_params_"
   ]
  },
  {
   "cell_type": "markdown",
   "metadata": {},
   "source": [
    "### For SVM"
   ]
  },
  {
   "cell_type": "code",
   "execution_count": 14,
   "metadata": {},
   "outputs": [
    {
     "name": "stdout",
     "output_type": "stream",
     "text": [
      "Best Hyper Parameters:\n",
      " {'kernel': 'rbf', 'C': 12}\n"
     ]
    }
   ],
   "source": [
    "from sklearn import svm\n",
    "#making the instance\n",
    "svm_r=svm.SVR()\n",
    "#Hyper Parameters Set\n",
    "params = {'C': [6,7,8,9,10,11,12], \n",
    "          'kernel': ['linear','rbf']}\n",
    "#Making models with hyper parameters sets\n",
    "svm_r = RandomizedSearchCV(svm_r, param_distributions=params,cv=10, n_jobs=-1)\n",
    "#Learning\n",
    "svm_r.fit(train_X_temp,train_y_temp)\n",
    "#The best hyper parameters set\n",
    "print(\"Best Hyper Parameters:\\n\",svm_r.best_params_)"
   ]
  },
  {
   "cell_type": "code",
   "execution_count": null,
   "metadata": {},
   "outputs": [],
   "source": [
    "#Todo: Tuning For XGBoost"
   ]
  }
 ],
 "metadata": {
  "kernelspec": {
   "display_name": "Python 3",
   "language": "python",
   "name": "python3"
  },
  "language_info": {
   "codemirror_mode": {
    "name": "ipython",
    "version": 3
   },
   "file_extension": ".py",
   "mimetype": "text/x-python",
   "name": "python",
   "nbconvert_exporter": "python",
   "pygments_lexer": "ipython3",
   "version": "3.7.3"
  }
 },
 "nbformat": 4,
 "nbformat_minor": 4
}
