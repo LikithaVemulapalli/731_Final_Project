{
 "cells": [
  {
   "cell_type": "code",
   "execution_count": 103,
   "metadata": {},
   "outputs": [],
   "source": [
    "import pandas as pd\n",
    "import numpy as np\n",
    "import seaborn as sns\n",
    "\n",
    "import matplotlib.pyplot as plt\n",
    "import warnings\n",
    "\n",
    "warnings.filterwarnings(\"ignore\")\n",
    "%matplotlib inline\n",
    "\n",
    "\n",
    "from math import sqrt\n",
    "from sklearn.neighbors import KNeighborsRegressor\n",
    "from sklearn.metrics import accuracy_score\n",
    "from sklearn.metrics import mean_squared_error"
   ]
  },
  {
   "cell_type": "markdown",
   "metadata": {},
   "source": [
    "### Data"
   ]
  },
  {
   "cell_type": "code",
   "execution_count": 104,
   "metadata": {},
   "outputs": [],
   "source": [
    "data = pd.read_csv(\"aus_final.csv\",usecols = range(1,6))"
   ]
  },
  {
   "cell_type": "code",
   "execution_count": 105,
   "metadata": {},
   "outputs": [
    {
     "data": {
      "text/html": [
       "<div>\n",
       "<style scoped>\n",
       "    .dataframe tbody tr th:only-of-type {\n",
       "        vertical-align: middle;\n",
       "    }\n",
       "\n",
       "    .dataframe tbody tr th {\n",
       "        vertical-align: top;\n",
       "    }\n",
       "\n",
       "    .dataframe thead th {\n",
       "        text-align: right;\n",
       "    }\n",
       "</style>\n",
       "<table border=\"1\" class=\"dataframe\">\n",
       "  <thead>\n",
       "    <tr style=\"text-align: right;\">\n",
       "      <th></th>\n",
       "      <th>Year</th>\n",
       "      <th>Temperature</th>\n",
       "      <th>Precipitation</th>\n",
       "      <th>Fossil Fuels (TWh)</th>\n",
       "      <th>Annual CO2 emissions</th>\n",
       "    </tr>\n",
       "  </thead>\n",
       "  <tbody>\n",
       "    <tr>\n",
       "      <th>0</th>\n",
       "      <td>1970</td>\n",
       "      <td>53.790411</td>\n",
       "      <td>0.0</td>\n",
       "      <td>539.194272</td>\n",
       "      <td>147.479769</td>\n",
       "    </tr>\n",
       "    <tr>\n",
       "      <th>1</th>\n",
       "      <td>1971</td>\n",
       "      <td>54.040822</td>\n",
       "      <td>0.0</td>\n",
       "      <td>563.941140</td>\n",
       "      <td>152.629536</td>\n",
       "    </tr>\n",
       "    <tr>\n",
       "      <th>2</th>\n",
       "      <td>1972</td>\n",
       "      <td>55.167486</td>\n",
       "      <td>0.0</td>\n",
       "      <td>591.038647</td>\n",
       "      <td>157.335545</td>\n",
       "    </tr>\n",
       "    <tr>\n",
       "      <th>3</th>\n",
       "      <td>1973</td>\n",
       "      <td>55.985753</td>\n",
       "      <td>0.0</td>\n",
       "      <td>631.948371</td>\n",
       "      <td>170.827394</td>\n",
       "    </tr>\n",
       "    <tr>\n",
       "      <th>4</th>\n",
       "      <td>1974</td>\n",
       "      <td>54.435616</td>\n",
       "      <td>0.0</td>\n",
       "      <td>669.507134</td>\n",
       "      <td>172.189386</td>\n",
       "    </tr>\n",
       "  </tbody>\n",
       "</table>\n",
       "</div>"
      ],
      "text/plain": [
       "   Year  Temperature  Precipitation  Fossil Fuels (TWh)  Annual CO2 emissions\n",
       "0  1970    53.790411            0.0          539.194272            147.479769\n",
       "1  1971    54.040822            0.0          563.941140            152.629536\n",
       "2  1972    55.167486            0.0          591.038647            157.335545\n",
       "3  1973    55.985753            0.0          631.948371            170.827394\n",
       "4  1974    54.435616            0.0          669.507134            172.189386"
      ]
     },
     "execution_count": 105,
     "metadata": {},
     "output_type": "execute_result"
    }
   ],
   "source": [
    "data.head()"
   ]
  },
  {
   "cell_type": "code",
   "execution_count": 106,
   "metadata": {},
   "outputs": [
    {
     "data": {
      "text/plain": [
       "(50, 5)"
      ]
     },
     "execution_count": 106,
     "metadata": {},
     "output_type": "execute_result"
    }
   ],
   "source": [
    "data.shape"
   ]
  },
  {
   "cell_type": "markdown",
   "metadata": {},
   "source": [
    "## K-NN Regression for Temperature"
   ]
  },
  {
   "cell_type": "markdown",
   "metadata": {},
   "source": [
    "### Create Train and Test set"
   ]
  },
  {
   "cell_type": "code",
   "execution_count": 232,
   "metadata": {},
   "outputs": [],
   "source": [
    "from sklearn.model_selection import train_test_split\n",
    "train , test = train_test_split(data, test_size = 0.3)\n",
    "\n",
    "x_train = train.drop(['Temperature','Precipitation','Year'], axis=1)\n",
    "y_train = train['Temperature']\n",
    "\n",
    "x_test = test.drop(['Temperature','Precipitation','Year'], axis = 1)\n",
    "y_test = test['Temperature']"
   ]
  },
  {
   "cell_type": "markdown",
   "metadata": {},
   "source": [
    "### Preprocessing – Scaling the features"
   ]
  },
  {
   "cell_type": "code",
   "execution_count": 233,
   "metadata": {},
   "outputs": [],
   "source": [
    "from sklearn.preprocessing import MinMaxScaler\n",
    "scaler = MinMaxScaler()\n",
    "\n",
    "x_train_scaled = scaler.fit_transform(x_train)\n",
    "x_train = pd.DataFrame(x_train_scaled)\n",
    "\n",
    "x_test_scaled = scaler.fit_transform(x_test)\n",
    "x_test = pd.DataFrame(x_test_scaled)"
   ]
  },
  {
   "cell_type": "code",
   "execution_count": 234,
   "metadata": {},
   "outputs": [
    {
     "data": {
      "text/plain": [
       "(35, 2)"
      ]
     },
     "execution_count": 234,
     "metadata": {},
     "output_type": "execute_result"
    }
   ],
   "source": [
    "x_train.shape"
   ]
  },
  {
   "cell_type": "code",
   "execution_count": 235,
   "metadata": {},
   "outputs": [
    {
     "data": {
      "text/plain": [
       "(15, 2)"
      ]
     },
     "execution_count": 235,
     "metadata": {},
     "output_type": "execute_result"
    }
   ],
   "source": [
    "x_test.shape"
   ]
  },
  {
   "cell_type": "markdown",
   "metadata": {},
   "source": [
    "### Hyperparameter (K) Tuning"
   ]
  },
  {
   "cell_type": "markdown",
   "metadata": {},
   "source": [
    "#### Error rate for different k values"
   ]
  },
  {
   "cell_type": "code",
   "execution_count": 236,
   "metadata": {},
   "outputs": [
    {
     "name": "stdout",
     "output_type": "stream",
     "text": [
      "RMSE value for k=  1 is: 1.013257007217073\n",
      "RMSE value for k=  2 is: 1.010250959673242\n",
      "RMSE value for k=  3 is: 0.9483314885099335\n",
      "RMSE value for k=  4 is: 0.809218997605132\n",
      "RMSE value for k=  5 is: 0.805754114722057\n",
      "RMSE value for k=  6 is: 0.737890115185718\n",
      "RMSE value for k=  7 is: 0.6697712402516245\n",
      "RMSE value for k=  8 is: 0.6370827884359569\n",
      "RMSE value for k=  9 is: 0.6512879958870049\n",
      "RMSE value for k=  10 is: 0.6218762299938082\n",
      "RMSE value for k=  11 is: 0.634906324248218\n",
      "RMSE value for k=  12 is: 0.636276992205979\n",
      "RMSE value for k=  13 is: 0.6570640073812233\n",
      "RMSE value for k=  14 is: 0.6437473355816157\n",
      "RMSE value for k=  15 is: 0.6517974565939669\n"
     ]
    }
   ],
   "source": [
    "rmse_val = [] #to store root mean square error values for different k\n",
    "for K in range(15):\n",
    "    K= K+1\n",
    "    model = KNeighborsRegressor(n_neighbors = K)\n",
    "\n",
    "    model.fit(x_train, y_train)  #fit the model\n",
    "    pred=model.predict(x_test) #make prediction on test set\n",
    "    error = sqrt(mean_squared_error(y_test,pred)) #calculate rmse\n",
    "    rmse_val.append(error) #store rmse values\n",
    "    print('RMSE value for k= ' , K , 'is:', error)"
   ]
  },
  {
   "cell_type": "markdown",
   "metadata": {},
   "source": [
    "### Getting the elbow curve"
   ]
  },
  {
   "cell_type": "code",
   "execution_count": 237,
   "metadata": {},
   "outputs": [],
   "source": [
    "rmse_val.insert(0,1)\n",
    "#rmse_val"
   ]
  },
  {
   "cell_type": "code",
   "execution_count": 238,
   "metadata": {},
   "outputs": [
    {
     "data": {
      "text/plain": [
       "Text(0, 0.5, 'RMSE Value')"
      ]
     },
     "execution_count": 238,
     "metadata": {},
     "output_type": "execute_result"
    },
    {
     "data": {
      "image/png": "[encoded data removed]",
      "text/plain": [
       "<Figure size 432x288 with 1 Axes>"
      ]
     },
     "metadata": {
      "needs_background": "light"
     },
     "output_type": "display_data"
    }
   ],
   "source": [
    "curve = pd.DataFrame(rmse_val[1:])\n",
    "curve.plot()\n",
    "plt.xlabel(\"K value\")\n",
    "plt.ylabel(\"RMSE Value\")"
   ]
  },
  {
   "cell_type": "markdown",
   "metadata": {},
   "source": [
    "As with K-NN, we get a very high RMSE value when we take k=1 as the model tries to overfit the data, as k value increases the rmse value decreases , we can say that k=10 gives us the lowest rmse value"
   ]
  },
  {
   "cell_type": "markdown",
   "metadata": {},
   "source": [
    "## Implementing GridsearchCV"
   ]
  },
  {
   "cell_type": "code",
   "execution_count": 250,
   "metadata": {},
   "outputs": [
    {
     "data": {
      "text/plain": [
       "{'n_neighbors': 10}"
      ]
     },
     "execution_count": 250,
     "metadata": {},
     "output_type": "execute_result"
    }
   ],
   "source": [
    "from sklearn.model_selection import GridSearchCV\n",
    "params = {'n_neighbors':[2,3,4,5,6,7,8,9,10,11,12,13]}\n",
    "\n",
    "knn = KNeighborsRegressor()\n",
    "\n",
    "model = GridSearchCV(knn, params,cv=4)\n",
    "model.fit(x_train,y_train)\n",
    "model.best_params_"
   ]
  },
  {
   "cell_type": "markdown",
   "metadata": {},
   "source": [
    "### Predictions and Accuracy"
   ]
  },
  {
   "cell_type": "code",
   "execution_count": 251,
   "metadata": {},
   "outputs": [
    {
     "name": "stdout",
     "output_type": "stream",
     "text": [
      "Accuracy for K-NN with 1 Neighbors : -13.575212561919802\n",
      "Accuracy for K-NN with 2 Neighbors : -12.902320987345405\n",
      "Accuracy for K-NN with 3 Neighbors : 0.5133816499869548\n",
      "Accuracy for K-NN with 4 Neighbors : 27.560329447585964\n",
      "Accuracy for K-NN with 5 Neighbors : 28.17934018500988\n",
      "Accuracy for K-NN with 6 Neighbors : 39.76794068858218\n",
      "Accuracy for K-NN with 7 Neighbors : 50.37536596820809\n",
      "Accuracy for K-NN with 8 Neighbors : 55.10106174401032\n",
      "Accuracy for K-NN with 9 Neighbors : 53.07649184670217\n",
      "Accuracy for K-NN with 10 Neighbors : 57.2188710642989\n",
      "Accuracy for K-NN with 11 Neighbors : 55.40731396453001\n",
      "Accuracy for K-NN with 12 Neighbors : 55.214568231984096\n",
      "Accuracy for K-NN with 13 Neighbors : 52.240509745269\n",
      "Accuracy for K-NN with 14 Neighbors : 54.15676932193841\n"
     ]
    }
   ],
   "source": [
    "#Implementing model with k=7\n",
    "for k in range(1,15):\n",
    "    model = KNeighborsRegressor(n_neighbors=k)\n",
    "    model.fit(x_train,y_train)\n",
    "\n",
    "    predict = model.predict(x_test)\n",
    "    print('Accuracy for K-NN with {} Neighbors : {}'.format(k,model.score(x_test,y_test)*100))"
   ]
  },
  {
   "cell_type": "markdown",
   "metadata": {},
   "source": [
    "Highest accuracy we could get with temperature is 57 for 10 nearest neighbours"
   ]
  },
  {
   "cell_type": "code",
   "execution_count": 252,
   "metadata": {},
   "outputs": [
    {
     "data": {
      "text/plain": [
       "array([54.84536717, 55.00460161, 56.42567857, 56.28358464, 54.93816999,\n",
       "       56.42567857, 54.84536717, 54.84536717, 55.22586068, 56.42567857,\n",
       "       56.42567857, 54.84536717, 56.42567857, 56.42567857, 56.42567857])"
      ]
     },
     "execution_count": 252,
     "metadata": {},
     "output_type": "execute_result"
    }
   ],
   "source": [
    "predict"
   ]
  },
  {
   "cell_type": "code",
   "execution_count": 254,
   "metadata": {},
   "outputs": [
    {
     "data": {
      "text/plain": [
       "2     55.167486\n",
       "12    55.709589\n",
       "43    56.384658\n",
       "32    56.841370\n",
       "20    55.911233\n",
       "Name: Temperature, dtype: float64"
      ]
     },
     "execution_count": 254,
     "metadata": {},
     "output_type": "execute_result"
    }
   ],
   "source": [
    "y_test.head()"
   ]
  },
  {
   "cell_type": "markdown",
   "metadata": {},
   "source": [
    "## K-NN Regression for Precipitation"
   ]
  },
  {
   "cell_type": "markdown",
   "metadata": {},
   "source": [
    "### Create Train and Test set"
   ]
  },
  {
   "cell_type": "code",
   "execution_count": 272,
   "metadata": {},
   "outputs": [],
   "source": [
    "from sklearn.model_selection import train_test_split\n",
    "train , test = train_test_split(data, test_size = 0.3)\n",
    "\n",
    "x_train = train.drop(['Temperature','Precipitation','Year'], axis=1)\n",
    "y_train = train['Precipitation']\n",
    "\n",
    "x_test = test.drop(['Temperature','Precipitation','Year'], axis = 1)\n",
    "y_test = test['Precipitation']"
   ]
  },
  {
   "cell_type": "markdown",
   "metadata": {},
   "source": [
    "### Preprocessing – Scaling the features"
   ]
  },
  {
   "cell_type": "code",
   "execution_count": 273,
   "metadata": {},
   "outputs": [],
   "source": [
    "from sklearn.preprocessing import MinMaxScaler\n",
    "scaler = MinMaxScaler()\n",
    "\n",
    "x_train_scaled = scaler.fit_transform(x_train)\n",
    "x_train = pd.DataFrame(x_train_scaled)\n",
    "\n",
    "x_test_scaled = scaler.fit_transform(x_test)\n",
    "x_test = pd.DataFrame(x_test_scaled)"
   ]
  },
  {
   "cell_type": "markdown",
   "metadata": {},
   "source": [
    "### Hyperparameter (K) Tuning"
   ]
  },
  {
   "cell_type": "markdown",
   "metadata": {},
   "source": [
    "#### Error rate for different k values"
   ]
  },
  {
   "cell_type": "code",
   "execution_count": 274,
   "metadata": {},
   "outputs": [
    {
     "name": "stdout",
     "output_type": "stream",
     "text": [
      "RMSE value for k=  1 is: 0.0454995244844925\n",
      "RMSE value for k=  2 is: 0.041232245275293115\n",
      "RMSE value for k=  3 is: 0.035831426313421774\n",
      "RMSE value for k=  4 is: 0.03203437785154358\n",
      "RMSE value for k=  5 is: 0.02809747502174153\n",
      "RMSE value for k=  6 is: 0.023678371259614178\n",
      "RMSE value for k=  7 is: 0.021986186841663192\n",
      "RMSE value for k=  8 is: 0.02218123480442427\n",
      "RMSE value for k=  9 is: 0.022984049278332322\n",
      "RMSE value for k=  10 is: 0.022816069342500998\n",
      "RMSE value for k=  11 is: 0.02481337266538036\n",
      "RMSE value for k=  12 is: 0.02659507563423623\n",
      "RMSE value for k=  13 is: 0.028275838370653332\n",
      "RMSE value for k=  14 is: 0.03148555047246627\n",
      "RMSE value for k=  15 is: 0.034771286468752806\n"
     ]
    }
   ],
   "source": [
    "rmse_val = [] #to store root mean square error values for different k\n",
    "for K in range(15):\n",
    "    K= K+1\n",
    "    model = KNeighborsRegressor(n_neighbors = K)\n",
    "\n",
    "    model.fit(x_train, y_train)  #fit the model\n",
    "    pred=model.predict(x_test) #make prediction on test set\n",
    "    error = sqrt(mean_squared_error(y_test,pred)) #calculate rmse\n",
    "    rmse_val.append(error) #store rmse values\n",
    "    print('RMSE value for k= ' , K , 'is:', error)"
   ]
  },
  {
   "cell_type": "markdown",
   "metadata": {},
   "source": [
    "## Getting the elbow curve"
   ]
  },
  {
   "cell_type": "code",
   "execution_count": 275,
   "metadata": {},
   "outputs": [
    {
     "data": {
      "text/plain": [
       "Text(0, 0.5, 'RMSE Value')"
      ]
     },
     "execution_count": 275,
     "metadata": {},
     "output_type": "execute_result"
    },
    {
     "data": {
      "image/png": "[encoded data removed]",
      "text/plain": [
       "<Figure size 432x288 with 1 Axes>"
      ]
     },
     "metadata": {
      "needs_background": "light"
     },
     "output_type": "display_data"
    }
   ],
   "source": [
    "curve = pd.DataFrame(rmse_val[1:])\n",
    "curve.plot()\n",
    "plt.xlabel(\"K value\")\n",
    "plt.ylabel(\"RMSE Value\")"
   ]
  },
  {
   "cell_type": "markdown",
   "metadata": {},
   "source": [
    "As with K-NN, we get a very high RMSE value when we take k=1 as the model tries to overfit the data, as k value increases the rmse value decreases , we can say that k=6 gives us the lowest rmse value"
   ]
  },
  {
   "cell_type": "markdown",
   "metadata": {},
   "source": [
    "## Implementing GridsearchCV"
   ]
  },
  {
   "cell_type": "code",
   "execution_count": 276,
   "metadata": {},
   "outputs": [
    {
     "data": {
      "text/plain": [
       "{'n_neighbors': 6}"
      ]
     },
     "execution_count": 276,
     "metadata": {},
     "output_type": "execute_result"
    }
   ],
   "source": [
    "from sklearn.model_selection import GridSearchCV\n",
    "params = {'n_neighbors':[2,3,4,5,6,7,8,9,10,11,12,13]}\n",
    "\n",
    "knn = KNeighborsRegressor()\n",
    "\n",
    "model = GridSearchCV(knn, params,cv=4)\n",
    "model.fit(x_train,y_train)\n",
    "model.best_params_"
   ]
  },
  {
   "cell_type": "code",
   "execution_count": 277,
   "metadata": {},
   "outputs": [
    {
     "name": "stdout",
     "output_type": "stream",
     "text": [
      "Accuracy for K-NN with 1 Neighbors : 31.585173691261204\n",
      "Accuracy for K-NN with 2 Neighbors : 43.81628112884963\n",
      "Accuracy for K-NN with 3 Neighbors : 57.570813483612845\n",
      "Accuracy for K-NN with 4 Neighbors : 66.08677426338589\n",
      "Accuracy for K-NN with 5 Neighbors : 73.91017893200788\n",
      "Accuracy for K-NN with 6 Neighbors : 81.47150415828139\n",
      "Accuracy for K-NN with 7 Neighbors : 84.02516645201092\n",
      "Accuracy for K-NN with 8 Neighbors : 83.74047136093277\n",
      "Accuracy for K-NN with 9 Neighbors : 82.54219648681745\n",
      "Accuracy for K-NN with 10 Neighbors : 82.79644623228116\n",
      "Accuracy for K-NN with 11 Neighbors : 79.65263811346773\n",
      "Accuracy for K-NN with 12 Neighbors : 76.62568069171327\n",
      "Accuracy for K-NN with 13 Neighbors : 73.5778901402651\n",
      "Accuracy for K-NN with 14 Neighbors : 67.23885331801321\n"
     ]
    }
   ],
   "source": [
    "#checking accuracy for k\n",
    "for k in range(1,15):\n",
    "    model = KNeighborsRegressor(n_neighbors=k)\n",
    "    model.fit(x_train,y_train)\n",
    "\n",
    "    predict = model.predict(x_test)\n",
    "    print('Accuracy for K-NN with {} Neighbors : {}'.format(k,model.score(x_test,y_test)*100))"
   ]
  },
  {
   "cell_type": "markdown",
   "metadata": {},
   "source": [
    "Highest accuracy we could get with temperature is 84% for 8 nearest neighbours, for 6 NN we got 81% accuracy"
   ]
  },
  {
   "cell_type": "code",
   "execution_count": null,
   "metadata": {},
   "outputs": [],
   "source": []
  }
 ],
 "metadata": {
  "kernelspec": {
   "display_name": "Python 3",
   "language": "python",
   "name": "python3"
  },
  "language_info": {
   "codemirror_mode": {
    "name": "ipython",
    "version": 3
   },
   "file_extension": ".py",
   "mimetype": "text/x-python",
   "name": "python",
   "nbconvert_exporter": "python",
   "pygments_lexer": "ipython3",
   "version": "3.7.3"
  }
 },
 "nbformat": 4,
 "nbformat_minor": 4
}
