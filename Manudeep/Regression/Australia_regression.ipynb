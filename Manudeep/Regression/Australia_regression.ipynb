{
 "cells": [
  {
   "cell_type": "markdown",
   "metadata": {},
   "source": [
    "## Importing Libraries"
   ]
  },
  {
   "cell_type": "code",
   "execution_count": 1,
   "metadata": {},
   "outputs": [],
   "source": [
    "import pandas as pd\n",
    "import numpy as np\n",
    "import seaborn as sns\n",
    "\n",
    "import matplotlib.pyplot as plt\n",
    "import warnings\n",
    "warnings.filterwarnings(\"ignore\")\n",
    "from sklearn import metrics\n",
    "\n",
    "import matplotlib"
   ]
  },
  {
   "cell_type": "markdown",
   "metadata": {},
   "source": [
    "## The Data"
   ]
  },
  {
   "cell_type": "code",
   "execution_count": 2,
   "metadata": {},
   "outputs": [
    {
     "name": "stdout",
     "output_type": "stream",
     "text": [
      "C:\\Users\\manudeep\\Desktop\\Fall_2020\\EECS_731\\Project\\731_Final_Project\\Contries_Data\n",
      "Enter the Country: Australia\n"
     ]
    },
    {
     "data": {
      "text/html": [
       "<div>\n",
       "<style scoped>\n",
       "    .dataframe tbody tr th:only-of-type {\n",
       "        vertical-align: middle;\n",
       "    }\n",
       "\n",
       "    .dataframe tbody tr th {\n",
       "        vertical-align: top;\n",
       "    }\n",
       "\n",
       "    .dataframe thead th {\n",
       "        text-align: right;\n",
       "    }\n",
       "</style>\n",
       "<table border=\"1\" class=\"dataframe\">\n",
       "  <thead>\n",
       "    <tr style=\"text-align: right;\">\n",
       "      <th></th>\n",
       "      <th>Name</th>\n",
       "      <th>Date time</th>\n",
       "      <th>Maximum Temperature</th>\n",
       "      <th>Minimum Temperature</th>\n",
       "      <th>Temperature</th>\n",
       "      <th>Wind Chill</th>\n",
       "      <th>Heat Index</th>\n",
       "      <th>Precipitation</th>\n",
       "      <th>Snow Depth</th>\n",
       "      <th>Wind Speed</th>\n",
       "      <th>Wind Gust</th>\n",
       "      <th>Visibility</th>\n",
       "      <th>Cloud Cover</th>\n",
       "      <th>Relative Humidity</th>\n",
       "      <th>Conditions</th>\n",
       "    </tr>\n",
       "  </thead>\n",
       "  <tbody>\n",
       "    <tr>\n",
       "      <th>0</th>\n",
       "      <td>australia</td>\n",
       "      <td>01/01/1970</td>\n",
       "      <td>62.3</td>\n",
       "      <td>55.1</td>\n",
       "      <td>59.9</td>\n",
       "      <td>NaN</td>\n",
       "      <td>NaN</td>\n",
       "      <td>0.0</td>\n",
       "      <td>NaN</td>\n",
       "      <td>19.5</td>\n",
       "      <td>NaN</td>\n",
       "      <td>NaN</td>\n",
       "      <td>97.5</td>\n",
       "      <td>82.74</td>\n",
       "      <td>Overcast</td>\n",
       "    </tr>\n",
       "    <tr>\n",
       "      <th>1</th>\n",
       "      <td>australia</td>\n",
       "      <td>01/02/1970</td>\n",
       "      <td>53.9</td>\n",
       "      <td>50.3</td>\n",
       "      <td>51.9</td>\n",
       "      <td>NaN</td>\n",
       "      <td>NaN</td>\n",
       "      <td>0.0</td>\n",
       "      <td>NaN</td>\n",
       "      <td>18.3</td>\n",
       "      <td>NaN</td>\n",
       "      <td>NaN</td>\n",
       "      <td>93.8</td>\n",
       "      <td>78.11</td>\n",
       "      <td>Overcast</td>\n",
       "    </tr>\n",
       "    <tr>\n",
       "      <th>2</th>\n",
       "      <td>australia</td>\n",
       "      <td>01/03/1970</td>\n",
       "      <td>56.0</td>\n",
       "      <td>48.8</td>\n",
       "      <td>52.3</td>\n",
       "      <td>43.4</td>\n",
       "      <td>NaN</td>\n",
       "      <td>0.0</td>\n",
       "      <td>NaN</td>\n",
       "      <td>15.0</td>\n",
       "      <td>NaN</td>\n",
       "      <td>NaN</td>\n",
       "      <td>100.0</td>\n",
       "      <td>85.87</td>\n",
       "      <td>Overcast</td>\n",
       "    </tr>\n",
       "    <tr>\n",
       "      <th>3</th>\n",
       "      <td>australia</td>\n",
       "      <td>01/04/1970</td>\n",
       "      <td>64.1</td>\n",
       "      <td>51.2</td>\n",
       "      <td>56.3</td>\n",
       "      <td>NaN</td>\n",
       "      <td>NaN</td>\n",
       "      <td>0.0</td>\n",
       "      <td>NaN</td>\n",
       "      <td>16.1</td>\n",
       "      <td>NaN</td>\n",
       "      <td>NaN</td>\n",
       "      <td>91.3</td>\n",
       "      <td>83.15</td>\n",
       "      <td>Overcast</td>\n",
       "    </tr>\n",
       "    <tr>\n",
       "      <th>4</th>\n",
       "      <td>australia</td>\n",
       "      <td>01/05/1970</td>\n",
       "      <td>72.2</td>\n",
       "      <td>50.3</td>\n",
       "      <td>61.4</td>\n",
       "      <td>NaN</td>\n",
       "      <td>NaN</td>\n",
       "      <td>0.0</td>\n",
       "      <td>NaN</td>\n",
       "      <td>11.4</td>\n",
       "      <td>NaN</td>\n",
       "      <td>NaN</td>\n",
       "      <td>75.0</td>\n",
       "      <td>71.98</td>\n",
       "      <td>Partially cloudy</td>\n",
       "    </tr>\n",
       "  </tbody>\n",
       "</table>\n",
       "</div>"
      ],
      "text/plain": [
       "        Name   Date time  Maximum Temperature  Minimum Temperature  \\\n",
       "0  australia  01/01/1970                 62.3                 55.1   \n",
       "1  australia  01/02/1970                 53.9                 50.3   \n",
       "2  australia  01/03/1970                 56.0                 48.8   \n",
       "3  australia  01/04/1970                 64.1                 51.2   \n",
       "4  australia  01/05/1970                 72.2                 50.3   \n",
       "\n",
       "   Temperature  Wind Chill  Heat Index  Precipitation  Snow Depth  Wind Speed  \\\n",
       "0         59.9         NaN         NaN            0.0         NaN        19.5   \n",
       "1         51.9         NaN         NaN            0.0         NaN        18.3   \n",
       "2         52.3        43.4         NaN            0.0         NaN        15.0   \n",
       "3         56.3         NaN         NaN            0.0         NaN        16.1   \n",
       "4         61.4         NaN         NaN            0.0         NaN        11.4   \n",
       "\n",
       "   Wind Gust  Visibility  Cloud Cover  Relative Humidity        Conditions  \n",
       "0        NaN         NaN         97.5              82.74          Overcast  \n",
       "1        NaN         NaN         93.8              78.11          Overcast  \n",
       "2        NaN         NaN        100.0              85.87          Overcast  \n",
       "3        NaN         NaN         91.3              83.15          Overcast  \n",
       "4        NaN         NaN         75.0              71.98  Partially cloudy  "
      ]
     },
     "execution_count": 2,
     "metadata": {},
     "output_type": "execute_result"
    }
   ],
   "source": [
    "import os\n",
    "print(os.getenv(\"Country_path\"))\n",
    "## Please add the Country_path  to your environment variables where CSV files are stored\n",
    "var = input(\"Enter the Country: \")\n",
    "df_aus = pd.read_csv(os.getenv('Country_path') + '\\\\' + var + '_history_data.csv')\n",
    "df_aus.head()"
   ]
  },
  {
   "cell_type": "markdown",
   "metadata": {},
   "source": [
    "### Random Slice of Data\n",
    "<hr>"
   ]
  },
  {
   "cell_type": "code",
   "execution_count": 3,
   "metadata": {},
   "outputs": [
    {
     "data": {
      "text/html": [
       "<div>\n",
       "<style scoped>\n",
       "    .dataframe tbody tr th:only-of-type {\n",
       "        vertical-align: middle;\n",
       "    }\n",
       "\n",
       "    .dataframe tbody tr th {\n",
       "        vertical-align: top;\n",
       "    }\n",
       "\n",
       "    .dataframe thead th {\n",
       "        text-align: right;\n",
       "    }\n",
       "</style>\n",
       "<table border=\"1\" class=\"dataframe\">\n",
       "  <thead>\n",
       "    <tr style=\"text-align: right;\">\n",
       "      <th></th>\n",
       "      <th>Name</th>\n",
       "      <th>Date time</th>\n",
       "      <th>Maximum Temperature</th>\n",
       "      <th>Minimum Temperature</th>\n",
       "      <th>Temperature</th>\n",
       "      <th>Wind Chill</th>\n",
       "      <th>Heat Index</th>\n",
       "      <th>Precipitation</th>\n",
       "      <th>Snow Depth</th>\n",
       "      <th>Wind Speed</th>\n",
       "      <th>Wind Gust</th>\n",
       "      <th>Visibility</th>\n",
       "      <th>Cloud Cover</th>\n",
       "      <th>Relative Humidity</th>\n",
       "      <th>Conditions</th>\n",
       "    </tr>\n",
       "  </thead>\n",
       "  <tbody>\n",
       "    <tr>\n",
       "      <th>15189</th>\n",
       "      <td>australia</td>\n",
       "      <td>08/03/2011</td>\n",
       "      <td>69.9</td>\n",
       "      <td>35.9</td>\n",
       "      <td>50.1</td>\n",
       "      <td>31.0</td>\n",
       "      <td>NaN</td>\n",
       "      <td>0.00</td>\n",
       "      <td>NaN</td>\n",
       "      <td>11.4</td>\n",
       "      <td>NaN</td>\n",
       "      <td>6.5</td>\n",
       "      <td>17.7</td>\n",
       "      <td>67.30</td>\n",
       "      <td>Clear</td>\n",
       "    </tr>\n",
       "    <tr>\n",
       "      <th>14053</th>\n",
       "      <td>australia</td>\n",
       "      <td>06/23/2008</td>\n",
       "      <td>54.0</td>\n",
       "      <td>34.4</td>\n",
       "      <td>43.6</td>\n",
       "      <td>30.8</td>\n",
       "      <td>NaN</td>\n",
       "      <td>0.00</td>\n",
       "      <td>NaN</td>\n",
       "      <td>10.3</td>\n",
       "      <td>NaN</td>\n",
       "      <td>9.0</td>\n",
       "      <td>72.1</td>\n",
       "      <td>81.63</td>\n",
       "      <td>Partially cloudy</td>\n",
       "    </tr>\n",
       "    <tr>\n",
       "      <th>18334</th>\n",
       "      <td>australia</td>\n",
       "      <td>03/13/2020</td>\n",
       "      <td>76.9</td>\n",
       "      <td>48.2</td>\n",
       "      <td>62.6</td>\n",
       "      <td>46.6</td>\n",
       "      <td>NaN</td>\n",
       "      <td>0.00</td>\n",
       "      <td>NaN</td>\n",
       "      <td>17.2</td>\n",
       "      <td>NaN</td>\n",
       "      <td>6.2</td>\n",
       "      <td>11.5</td>\n",
       "      <td>68.92</td>\n",
       "      <td>Clear</td>\n",
       "    </tr>\n",
       "    <tr>\n",
       "      <th>18493</th>\n",
       "      <td>australia</td>\n",
       "      <td>08/19/2020</td>\n",
       "      <td>51.8</td>\n",
       "      <td>41.2</td>\n",
       "      <td>45.0</td>\n",
       "      <td>33.9</td>\n",
       "      <td>NaN</td>\n",
       "      <td>0.24</td>\n",
       "      <td>NaN</td>\n",
       "      <td>21.8</td>\n",
       "      <td>33.3</td>\n",
       "      <td>6.2</td>\n",
       "      <td>47.5</td>\n",
       "      <td>81.13</td>\n",
       "      <td>Rain, Partially cloudy</td>\n",
       "    </tr>\n",
       "    <tr>\n",
       "      <th>15134</th>\n",
       "      <td>australia</td>\n",
       "      <td>06/09/2011</td>\n",
       "      <td>55.5</td>\n",
       "      <td>35.4</td>\n",
       "      <td>43.8</td>\n",
       "      <td>29.3</td>\n",
       "      <td>NaN</td>\n",
       "      <td>0.06</td>\n",
       "      <td>NaN</td>\n",
       "      <td>15.0</td>\n",
       "      <td>NaN</td>\n",
       "      <td>7.3</td>\n",
       "      <td>55.5</td>\n",
       "      <td>68.92</td>\n",
       "      <td>Rain, Partially cloudy</td>\n",
       "    </tr>\n",
       "  </tbody>\n",
       "</table>\n",
       "</div>"
      ],
      "text/plain": [
       "            Name   Date time  Maximum Temperature  Minimum Temperature  \\\n",
       "15189  australia  08/03/2011                 69.9                 35.9   \n",
       "14053  australia  06/23/2008                 54.0                 34.4   \n",
       "18334  australia  03/13/2020                 76.9                 48.2   \n",
       "18493  australia  08/19/2020                 51.8                 41.2   \n",
       "15134  australia  06/09/2011                 55.5                 35.4   \n",
       "\n",
       "       Temperature  Wind Chill  Heat Index  Precipitation  Snow Depth  \\\n",
       "15189         50.1        31.0         NaN           0.00         NaN   \n",
       "14053         43.6        30.8         NaN           0.00         NaN   \n",
       "18334         62.6        46.6         NaN           0.00         NaN   \n",
       "18493         45.0        33.9         NaN           0.24         NaN   \n",
       "15134         43.8        29.3         NaN           0.06         NaN   \n",
       "\n",
       "       Wind Speed  Wind Gust  Visibility  Cloud Cover  Relative Humidity  \\\n",
       "15189        11.4        NaN         6.5         17.7              67.30   \n",
       "14053        10.3        NaN         9.0         72.1              81.63   \n",
       "18334        17.2        NaN         6.2         11.5              68.92   \n",
       "18493        21.8       33.3         6.2         47.5              81.13   \n",
       "15134        15.0        NaN         7.3         55.5              68.92   \n",
       "\n",
       "                   Conditions  \n",
       "15189                   Clear  \n",
       "14053        Partially cloudy  \n",
       "18334                   Clear  \n",
       "18493  Rain, Partially cloudy  \n",
       "15134  Rain, Partially cloudy  "
      ]
     },
     "execution_count": 3,
     "metadata": {},
     "output_type": "execute_result"
    }
   ],
   "source": [
    "df_aus.sample(5)"
   ]
  },
  {
   "cell_type": "markdown",
   "metadata": {},
   "source": [
    "<b> Feature Description </b><br>\n",
    "<hr>\n",
    "\n",
    "`Temperature`: Average Temp (deg F)<br>\n",
    "`Precipitation`: Water that is falling out of the sky, this could be rain, drizzle, snow, sleet, hail or something rarer. (Inches)<br>\n",
    "`Wind Chill` - the cooling effect of wind blowing on a surface(Temp a human feels becuase of heat is loss from the exposed skin)\t(deg F)<br>\n",
    "`Heat Index` - The Heat Index is a measure of how hot it really feels when relative humidity is factored in with the actual air temperature. (deg F)<br>\n",
    "`Snow Depth` -  Determine the depth of the new and old snow remaining on the ground at observation time. (Inches)<br>\n",
    "`Wind Speed` - Speed of wind in (Miles/hour)<br>\n",
    "`Wind Gust` -  brief increase in the speed of the wind (Miles/hour) <br>\n",
    "`Visibility` - visibility is a measure of the distance at which an object or light can be clearly discerned (Miles)<br>\n",
    "`Cloud Cover` - fraction of the sky obscured by clouds when observed from a particular location ()<br>\n",
    "`Relative Humidity` - Relative humidity is the ratio of the partial pressure of water vapor to the equilibrium vapor pressure of water at a given temperature<br>\n",
    "`Condition` - Condition of the whole day."
   ]
  },
  {
   "cell_type": "code",
   "execution_count": 4,
   "metadata": {},
   "outputs": [
    {
     "data": {
      "text/plain": [
       "(18570, 15)"
      ]
     },
     "execution_count": 4,
     "metadata": {},
     "output_type": "execute_result"
    }
   ],
   "source": [
    "df_aus.shape"
   ]
  },
  {
   "cell_type": "code",
   "execution_count": 5,
   "metadata": {},
   "outputs": [
    {
     "data": {
      "text/plain": [
       "Name                       0\n",
       "Date time                  0\n",
       "Maximum Temperature        0\n",
       "Minimum Temperature        0\n",
       "Temperature                0\n",
       "Wind Chill             10058\n",
       "Heat Index             15539\n",
       "Precipitation              0\n",
       "Snow Depth             18539\n",
       "Wind Speed                 0\n",
       "Wind Gust              18401\n",
       "Visibility              1107\n",
       "Cloud Cover                0\n",
       "Relative Humidity          0\n",
       "Conditions                 0\n",
       "dtype: int64"
      ]
     },
     "execution_count": 5,
     "metadata": {},
     "output_type": "execute_result"
    }
   ],
   "source": [
    "#printing missing data sum\n",
    "df_aus.isnull().sum()"
   ]
  },
  {
   "cell_type": "code",
   "execution_count": 6,
   "metadata": {},
   "outputs": [
    {
     "data": {
      "text/plain": [
       "<AxesSubplot:>"
      ]
     },
     "execution_count": 6,
     "metadata": {},
     "output_type": "execute_result"
    },
    {
     "data": {
      "image/png": "[encoded data removed]",
      "text/plain": [
       "<Figure size 720x360 with 1 Axes>"
      ]
     },
     "metadata": {
      "needs_background": "light"
     },
     "output_type": "display_data"
    }
   ],
   "source": [
    "plt.figure(figsize=(10,5))\n",
    "sns.heatmap(df_aus.isnull(),yticklabels=False,cbar=False,cmap='rocket')"
   ]
  },
  {
   "cell_type": "code",
   "execution_count": 7,
   "metadata": {},
   "outputs": [],
   "source": [
    "df_aus.drop(columns=['Snow Depth','Heat Index','Wind Gust','Wind Chill'],inplace=True)"
   ]
  },
  {
   "cell_type": "code",
   "execution_count": 8,
   "metadata": {},
   "outputs": [
    {
     "data": {
      "text/html": [
       "<div>\n",
       "<style scoped>\n",
       "    .dataframe tbody tr th:only-of-type {\n",
       "        vertical-align: middle;\n",
       "    }\n",
       "\n",
       "    .dataframe tbody tr th {\n",
       "        vertical-align: top;\n",
       "    }\n",
       "\n",
       "    .dataframe thead th {\n",
       "        text-align: right;\n",
       "    }\n",
       "</style>\n",
       "<table border=\"1\" class=\"dataframe\">\n",
       "  <thead>\n",
       "    <tr style=\"text-align: right;\">\n",
       "      <th></th>\n",
       "      <th>Name</th>\n",
       "      <th>Date time</th>\n",
       "      <th>Maximum Temperature</th>\n",
       "      <th>Minimum Temperature</th>\n",
       "      <th>Temperature</th>\n",
       "      <th>Precipitation</th>\n",
       "      <th>Wind Speed</th>\n",
       "      <th>Visibility</th>\n",
       "      <th>Cloud Cover</th>\n",
       "      <th>Relative Humidity</th>\n",
       "      <th>Conditions</th>\n",
       "    </tr>\n",
       "  </thead>\n",
       "  <tbody>\n",
       "    <tr>\n",
       "      <th>18565</th>\n",
       "      <td>australia</td>\n",
       "      <td>10/30/2020</td>\n",
       "      <td>67.9</td>\n",
       "      <td>44.9</td>\n",
       "      <td>56.9</td>\n",
       "      <td>0.0</td>\n",
       "      <td>19.7</td>\n",
       "      <td>6.2</td>\n",
       "      <td>68.8</td>\n",
       "      <td>81.20</td>\n",
       "      <td>Partially cloudy</td>\n",
       "    </tr>\n",
       "    <tr>\n",
       "      <th>18566</th>\n",
       "      <td>australia</td>\n",
       "      <td>10/31/2020</td>\n",
       "      <td>58.9</td>\n",
       "      <td>51.7</td>\n",
       "      <td>54.4</td>\n",
       "      <td>0.0</td>\n",
       "      <td>15.0</td>\n",
       "      <td>6.1</td>\n",
       "      <td>95.4</td>\n",
       "      <td>92.79</td>\n",
       "      <td>Overcast</td>\n",
       "    </tr>\n",
       "    <tr>\n",
       "      <th>18567</th>\n",
       "      <td>australia</td>\n",
       "      <td>11/01/2020</td>\n",
       "      <td>69.7</td>\n",
       "      <td>51.7</td>\n",
       "      <td>58.4</td>\n",
       "      <td>0.0</td>\n",
       "      <td>21.9</td>\n",
       "      <td>6.2</td>\n",
       "      <td>81.1</td>\n",
       "      <td>71.76</td>\n",
       "      <td>Overcast</td>\n",
       "    </tr>\n",
       "    <tr>\n",
       "      <th>18568</th>\n",
       "      <td>australia</td>\n",
       "      <td>11/02/2020</td>\n",
       "      <td>69.7</td>\n",
       "      <td>42.7</td>\n",
       "      <td>57.9</td>\n",
       "      <td>0.0</td>\n",
       "      <td>10.3</td>\n",
       "      <td>6.2</td>\n",
       "      <td>61.0</td>\n",
       "      <td>71.66</td>\n",
       "      <td>Partially cloudy</td>\n",
       "    </tr>\n",
       "    <tr>\n",
       "      <th>18569</th>\n",
       "      <td>australia</td>\n",
       "      <td>11/03/2020</td>\n",
       "      <td>75.1</td>\n",
       "      <td>48.1</td>\n",
       "      <td>61.1</td>\n",
       "      <td>0.0</td>\n",
       "      <td>10.3</td>\n",
       "      <td>6.2</td>\n",
       "      <td>92.9</td>\n",
       "      <td>75.28</td>\n",
       "      <td>Overcast</td>\n",
       "    </tr>\n",
       "  </tbody>\n",
       "</table>\n",
       "</div>"
      ],
      "text/plain": [
       "            Name   Date time  Maximum Temperature  Minimum Temperature  \\\n",
       "18565  australia  10/30/2020                 67.9                 44.9   \n",
       "18566  australia  10/31/2020                 58.9                 51.7   \n",
       "18567  australia  11/01/2020                 69.7                 51.7   \n",
       "18568  australia  11/02/2020                 69.7                 42.7   \n",
       "18569  australia  11/03/2020                 75.1                 48.1   \n",
       "\n",
       "       Temperature  Precipitation  Wind Speed  Visibility  Cloud Cover  \\\n",
       "18565         56.9            0.0        19.7         6.2         68.8   \n",
       "18566         54.4            0.0        15.0         6.1         95.4   \n",
       "18567         58.4            0.0        21.9         6.2         81.1   \n",
       "18568         57.9            0.0        10.3         6.2         61.0   \n",
       "18569         61.1            0.0        10.3         6.2         92.9   \n",
       "\n",
       "       Relative Humidity        Conditions  \n",
       "18565              81.20  Partially cloudy  \n",
       "18566              92.79          Overcast  \n",
       "18567              71.76          Overcast  \n",
       "18568              71.66  Partially cloudy  \n",
       "18569              75.28          Overcast  "
      ]
     },
     "execution_count": 8,
     "metadata": {},
     "output_type": "execute_result"
    }
   ],
   "source": [
    "df_aus.tail()"
   ]
  },
  {
   "cell_type": "code",
   "execution_count": 9,
   "metadata": {},
   "outputs": [
    {
     "name": "stdout",
     "output_type": "stream",
     "text": [
      "Name                   0\n",
      "Date time              0\n",
      "Maximum Temperature    0\n",
      "Minimum Temperature    0\n",
      "Temperature            0\n",
      "Precipitation          0\n",
      "Wind Speed             0\n",
      "Visibility             0\n",
      "Cloud Cover            0\n",
      "Relative Humidity      0\n",
      "Conditions             0\n",
      "dtype: int64\n"
     ]
    }
   ],
   "source": [
    "#Mean Imputing for visibility\n",
    "df_aus['Visibility'].fillna(df_aus['Visibility'].mean(), inplace = True)\n",
    "print(df_aus.isnull().sum())"
   ]
  },
  {
   "cell_type": "markdown",
   "metadata": {},
   "source": [
    "For now, We will take Temperature and Precipitation as our Dependent variables for regression"
   ]
  },
  {
   "cell_type": "code",
   "execution_count": 10,
   "metadata": {},
   "outputs": [
    {
     "data": {
      "text/plain": [
       "30.4"
      ]
     },
     "execution_count": 10,
     "metadata": {},
     "output_type": "execute_result"
    }
   ],
   "source": [
    "#minimum value for temperature\n",
    "df_aus['Temperature'].min()"
   ]
  },
  {
   "cell_type": "code",
   "execution_count": 11,
   "metadata": {},
   "outputs": [
    {
     "data": {
      "text/plain": [
       "93.7"
      ]
     },
     "execution_count": 11,
     "metadata": {},
     "output_type": "execute_result"
    }
   ],
   "source": [
    "#maximum value for temperature\n",
    "df_aus['Temperature'].max()"
   ]
  },
  {
   "cell_type": "code",
   "execution_count": 12,
   "metadata": {},
   "outputs": [
    {
     "data": {
      "text/plain": [
       "0.0"
      ]
     },
     "execution_count": 12,
     "metadata": {},
     "output_type": "execute_result"
    }
   ],
   "source": [
    "#minimim value for temperature\n",
    "df_aus['Precipitation'].min()"
   ]
  },
  {
   "cell_type": "code",
   "execution_count": 13,
   "metadata": {},
   "outputs": [
    {
     "data": {
      "text/plain": [
       "4.33"
      ]
     },
     "execution_count": 13,
     "metadata": {},
     "output_type": "execute_result"
    }
   ],
   "source": [
    "#maximum value for precipitation\n",
    "df_aus['Precipitation'].max()"
   ]
  },
  {
   "cell_type": "code",
   "execution_count": 14,
   "metadata": {},
   "outputs": [],
   "source": [
    "#ToDO - Update feature details"
   ]
  },
  {
   "cell_type": "code",
   "execution_count": 15,
   "metadata": {},
   "outputs": [],
   "source": [
    "#Todo:How Windspeed is Effecting Temperature\n",
    "#Todo: How Humidity affects Temperature"
   ]
  },
  {
   "cell_type": "markdown",
   "metadata": {},
   "source": [
    "### 3 Feature Engineering"
   ]
  },
  {
   "cell_type": "markdown",
   "metadata": {},
   "source": [
    "####  Variance Threshold For Temperature"
   ]
  },
  {
   "cell_type": "code",
   "execution_count": 16,
   "metadata": {},
   "outputs": [
    {
     "data": {
      "text/plain": [
       "VarianceThreshold(threshold=0)"
      ]
     },
     "execution_count": 16,
     "metadata": {},
     "output_type": "execute_result"
    }
   ],
   "source": [
    "# Using Variance threshold to select variant features and drop constant features for temperature\n",
    "X=df_aus.drop(columns=['Temperature','Name','Date time','Maximum Temperature','Minimum Temperature','Conditions'],axis=1)\n",
    "Y=df_aus['Temperature']\n",
    "from sklearn.feature_selection import VarianceThreshold\n",
    "var_thres=VarianceThreshold(threshold=0)\n",
    "var_thres.fit(X)"
   ]
  },
  {
   "cell_type": "code",
   "execution_count": 17,
   "metadata": {},
   "outputs": [
    {
     "data": {
      "text/html": [
       "<div>\n",
       "<style scoped>\n",
       "    .dataframe tbody tr th:only-of-type {\n",
       "        vertical-align: middle;\n",
       "    }\n",
       "\n",
       "    .dataframe tbody tr th {\n",
       "        vertical-align: top;\n",
       "    }\n",
       "\n",
       "    .dataframe thead th {\n",
       "        text-align: right;\n",
       "    }\n",
       "</style>\n",
       "<table border=\"1\" class=\"dataframe\">\n",
       "  <thead>\n",
       "    <tr style=\"text-align: right;\">\n",
       "      <th></th>\n",
       "      <th>Precipitation</th>\n",
       "      <th>Wind Speed</th>\n",
       "      <th>Visibility</th>\n",
       "      <th>Cloud Cover</th>\n",
       "      <th>Relative Humidity</th>\n",
       "    </tr>\n",
       "  </thead>\n",
       "  <tbody>\n",
       "    <tr>\n",
       "      <th>0</th>\n",
       "      <td>0.0</td>\n",
       "      <td>19.5</td>\n",
       "      <td>16.560013</td>\n",
       "      <td>97.5</td>\n",
       "      <td>82.74</td>\n",
       "    </tr>\n",
       "    <tr>\n",
       "      <th>1</th>\n",
       "      <td>0.0</td>\n",
       "      <td>18.3</td>\n",
       "      <td>16.560013</td>\n",
       "      <td>93.8</td>\n",
       "      <td>78.11</td>\n",
       "    </tr>\n",
       "    <tr>\n",
       "      <th>2</th>\n",
       "      <td>0.0</td>\n",
       "      <td>15.0</td>\n",
       "      <td>16.560013</td>\n",
       "      <td>100.0</td>\n",
       "      <td>85.87</td>\n",
       "    </tr>\n",
       "    <tr>\n",
       "      <th>3</th>\n",
       "      <td>0.0</td>\n",
       "      <td>16.1</td>\n",
       "      <td>16.560013</td>\n",
       "      <td>91.3</td>\n",
       "      <td>83.15</td>\n",
       "    </tr>\n",
       "    <tr>\n",
       "      <th>4</th>\n",
       "      <td>0.0</td>\n",
       "      <td>11.4</td>\n",
       "      <td>16.560013</td>\n",
       "      <td>75.0</td>\n",
       "      <td>71.98</td>\n",
       "    </tr>\n",
       "  </tbody>\n",
       "</table>\n",
       "</div>"
      ],
      "text/plain": [
       "   Precipitation  Wind Speed  Visibility  Cloud Cover  Relative Humidity\n",
       "0            0.0        19.5   16.560013         97.5              82.74\n",
       "1            0.0        18.3   16.560013         93.8              78.11\n",
       "2            0.0        15.0   16.560013        100.0              85.87\n",
       "3            0.0        16.1   16.560013         91.3              83.15\n",
       "4            0.0        11.4   16.560013         75.0              71.98"
      ]
     },
     "execution_count": 17,
     "metadata": {},
     "output_type": "execute_result"
    }
   ],
   "source": [
    "X.head()"
   ]
  },
  {
   "cell_type": "code",
   "execution_count": 18,
   "metadata": {},
   "outputs": [
    {
     "data": {
      "text/plain": [
       "array([ True,  True,  True,  True,  True])"
      ]
     },
     "execution_count": 18,
     "metadata": {},
     "output_type": "execute_result"
    }
   ],
   "source": [
    "var_thres.get_support()"
   ]
  },
  {
   "cell_type": "markdown",
   "metadata": {},
   "source": [
    "Variance threshold doesn't give much information as there are no columns with zero variance"
   ]
  },
  {
   "cell_type": "markdown",
   "metadata": {},
   "source": [
    "####  Variance Threshold For Precipitation"
   ]
  },
  {
   "cell_type": "code",
   "execution_count": 19,
   "metadata": {},
   "outputs": [
    {
     "data": {
      "text/plain": [
       "VarianceThreshold(threshold=0)"
      ]
     },
     "execution_count": 19,
     "metadata": {},
     "output_type": "execute_result"
    }
   ],
   "source": [
    "# Using Variance threshold to select variant features and drop constant features for Precipitation\n",
    "X=df_aus.drop(columns=['Precipitation','Name','Date time','Conditions'],axis=1)\n",
    "Y=df_aus['Precipitation']\n",
    "from sklearn.feature_selection import VarianceThreshold\n",
    "var_thres=VarianceThreshold(threshold=0)\n",
    "var_thres.fit(X)"
   ]
  },
  {
   "cell_type": "code",
   "execution_count": 20,
   "metadata": {},
   "outputs": [
    {
     "data": {
      "text/plain": [
       "array([ True,  True,  True,  True,  True,  True,  True])"
      ]
     },
     "execution_count": 20,
     "metadata": {},
     "output_type": "execute_result"
    }
   ],
   "source": [
    "var_thres.get_support()"
   ]
  },
  {
   "cell_type": "markdown",
   "metadata": {},
   "source": [
    "Same as with Temperature, Variance threshold doesn't give much information for Precipitation as there are no columns with zero variance"
   ]
  },
  {
   "cell_type": "markdown",
   "metadata": {},
   "source": [
    "### 3.2 Feature Selection using pearson correlation coefficient"
   ]
  },
  {
   "cell_type": "markdown",
   "metadata": {},
   "source": [
    "Now let's check relevant features for the model on the basis of correlation with dependent variable Temperature and Precipitation"
   ]
  },
  {
   "cell_type": "code",
   "execution_count": 21,
   "metadata": {},
   "outputs": [
    {
     "data": {
      "text/plain": [
       "<AxesSubplot:>"
      ]
     },
     "execution_count": 21,
     "metadata": {},
     "output_type": "execute_result"
    },
    {
     "data": {
      "image/png": "[encoded data removed]",
      "text/plain": [
       "<Figure size 720x360 with 2 Axes>"
      ]
     },
     "metadata": {
      "needs_background": "light"
     },
     "output_type": "display_data"
    }
   ],
   "source": [
    "plt.figure(figsize=(10,5))\n",
    "c= df_aus.corr()\n",
    "sns.heatmap(c,cmap='CMRmap_r',annot=True)"
   ]
  },
  {
   "cell_type": "markdown",
   "metadata": {},
   "source": [
    "Higher the value with the other variable, higher the correlation. Maximum Temperature and Minimum Temperature are highly correalted with Each other and with temperature , but prediction would be obvious in that case, "
   ]
  },
  {
   "cell_type": "markdown",
   "metadata": {},
   "source": [
    "Also, for `Temperature` which is one of our dependent varaiable, Temperature is inversely correlated with Visibility and relative humidity and not much correlation with Cloud cover,Wind Speed and precipitation"
   ]
  },
  {
   "cell_type": "markdown",
   "metadata": {},
   "source": [
    "For `Precipitation`, It is not highly correlated with any other feature, but slightly correlated with Cloud cover and Relative Humidity and almost inverse correlation with Maximum Temperature"
   ]
  },
  {
   "cell_type": "code",
   "execution_count": null,
   "metadata": {},
   "outputs": [],
   "source": [
    "#Taking Temperature,Precipitation as traget and plotting a pairplot of type regression\n",
    "sns.pairplot(data=df_aus[['Relative Humidity','Wind Speed','Visibility','Cloud Cover','Precipitation','Temperature','Maximum Temperature',\n",
    "                         'Minimum Temperature']],kind='reg')"
   ]
  },
  {
   "cell_type": "markdown",
   "metadata": {},
   "source": [
    "For Temperature, We can see Maximum Temperature, Minimum Temperature and Temperature have a linear relationship, with respect to other features , we can see there is no linear relation expect for Relative Humidity , it is inverse"
   ]
  },
  {
   "cell_type": "markdown",
   "metadata": {},
   "source": [
    "For Precipitation, we can see majority of values are not correlated in any way. It lies in the range of 0-1 for many feature values.There is no obvious relation between any features and precipitation. There is a slight correaltion with Cloud cover, Visibility, Wind speed and relative humidity."
   ]
  },
  {
   "cell_type": "markdown",
   "metadata": {},
   "source": [
    "#### 3.3 Using Feature Transformation for conditions"
   ]
  },
  {
   "cell_type": "code",
   "execution_count": null,
   "metadata": {},
   "outputs": [],
   "source": [
    "df_aus['Conditions'] = df_aus['Conditions'].astype('category')"
   ]
  },
  {
   "cell_type": "code",
   "execution_count": null,
   "metadata": {},
   "outputs": [],
   "source": [
    "from sklearn import preprocessing\n",
    "# label_encoder object knows how to understand word labels. \n",
    "label_encoder = preprocessing.LabelEncoder()\n",
    "# Encode labels in column 'Country'. \n",
    "df_aus['Conditions']= label_encoder.fit_transform(df_aus['Conditions'])"
   ]
  },
  {
   "cell_type": "code",
   "execution_count": null,
   "metadata": {},
   "outputs": [],
   "source": [
    "#df_aus  = pd.concat([df_aus,df_aus_conditions],axis=1)"
   ]
  },
  {
   "cell_type": "code",
   "execution_count": null,
   "metadata": {},
   "outputs": [],
   "source": [
    "df_aus.head()"
   ]
  },
  {
   "cell_type": "markdown",
   "metadata": {},
   "source": [
    "## Regression"
   ]
  },
  {
   "cell_type": "code",
   "execution_count": null,
   "metadata": {},
   "outputs": [],
   "source": [
    "plt.hist(df_aus['Temperature'])"
   ]
  },
  {
   "cell_type": "code",
   "execution_count": null,
   "metadata": {},
   "outputs": [],
   "source": [
    "plt.hist(df_aus['Precipitation'])"
   ]
  },
  {
   "cell_type": "markdown",
   "metadata": {},
   "source": [
    "#### Segregating variables: Independent and Dependent Variables for Temperature"
   ]
  },
  {
   "cell_type": "code",
   "execution_count": null,
   "metadata": {},
   "outputs": [],
   "source": [
    "X_temp=df_aus.drop(columns=['Maximum Temperature','Minimum Temperature','Temperature','Precipitation',\n",
    "                            'Name','Date time'],axis=1)\n",
    "Y_temp=df_aus.Temperature"
   ]
  },
  {
   "cell_type": "markdown",
   "metadata": {},
   "source": [
    "#### Importing the train test split function for Temperature"
   ]
  },
  {
   "cell_type": "code",
   "execution_count": null,
   "metadata": {},
   "outputs": [],
   "source": [
    "from sklearn.model_selection import train_test_split\n",
    "train_X_temp,test_X_temp,train_y_temp,test_y_temp = train_test_split(X_temp,Y_temp)"
   ]
  },
  {
   "cell_type": "code",
   "execution_count": null,
   "metadata": {},
   "outputs": [],
   "source": [
    "train_X_temp.head()"
   ]
  },
  {
   "cell_type": "code",
   "execution_count": null,
   "metadata": {},
   "outputs": [],
   "source": [
    "train_y_temp.head()"
   ]
  },
  {
   "cell_type": "code",
   "execution_count": null,
   "metadata": {},
   "outputs": [],
   "source": [
    "#getting the shape for training data\n",
    "train_X_temp.shape"
   ]
  },
  {
   "cell_type": "code",
   "execution_count": null,
   "metadata": {},
   "outputs": [],
   "source": [
    "train_y_temp.shape"
   ]
  },
  {
   "cell_type": "code",
   "execution_count": null,
   "metadata": {},
   "outputs": [],
   "source": [
    "#getting the shape for test data\n",
    "test_X_temp.shape"
   ]
  },
  {
   "cell_type": "markdown",
   "metadata": {},
   "source": [
    "### 1. Implementing Linear Regression"
   ]
  },
  {
   "cell_type": "code",
   "execution_count": null,
   "metadata": {},
   "outputs": [],
   "source": [
    "from sklearn.linear_model import LinearRegression as LR\n",
    "from sklearn.metrics import mean_squared_error as mse\n",
    "from sklearn.metrics import mean_absolute_error as mae\n",
    "from sklearn.metrics import r2_score \n",
    "import math"
   ]
  },
  {
   "cell_type": "code",
   "execution_count": null,
   "metadata": {},
   "outputs": [],
   "source": [
    "lr = LR(normalize=True)\n",
    "lr.fit(train_X_temp,train_y_temp)\n",
    "y_pred_1=lr.predict(test_X_temp)"
   ]
  },
  {
   "cell_type": "code",
   "execution_count": null,
   "metadata": {},
   "outputs": [],
   "source": [
    "# Predicting over the Train Set and calculating error\n",
    "train_predict = lr.predict(train_X_temp)\n",
    "k = mse(train_predict, train_y_temp)\n",
    "print('Training Root Mean Squared Error', math.sqrt(k) )"
   ]
  },
  {
   "cell_type": "code",
   "execution_count": null,
   "metadata": {},
   "outputs": [],
   "source": [
    "# Predicting over the Test Set and calculating error\n",
    "test_predict = lr.predict(test_X_temp)\n",
    "k = mse(test_y_temp, test_predict)\n",
    "print('Test Root Mean Squared Error', math.sqrt(k) )"
   ]
  },
  {
   "cell_type": "markdown",
   "metadata": {},
   "source": [
    "### Ridge Regression"
   ]
  },
  {
   "cell_type": "code",
   "execution_count": null,
   "metadata": {},
   "outputs": [],
   "source": [
    "from sklearn import linear_model\n",
    "model=linear_model.Ridge()\n",
    "model.fit(train_X_temp,train_y_temp)\n",
    "y_predict=model.predict(test_X_temp)"
   ]
  },
  {
   "cell_type": "code",
   "execution_count": null,
   "metadata": {},
   "outputs": [],
   "source": [
    "# Predicting over the Train Set and calculating error\n",
    "train_predict = model.predict(train_X_temp)\n",
    "ridge_train_error = mse(train_predict, train_y_temp)\n",
    "print('Training Root Mean Squared Error', math.sqrt(ridge_train_error) )"
   ]
  },
  {
   "cell_type": "code",
   "execution_count": null,
   "metadata": {},
   "outputs": [],
   "source": [
    "# Predicting over the Test Set and calculating error\n",
    "test_predict = lr.predict(test_X_temp)\n",
    "ridge_test_error = mse(test_y_temp, test_predict)\n",
    "print('Test Root Mean Squared Error', math.sqrt(ridge_test_error) )\n",
    "ridge_r2_score = r2_score(test_y_temp,test_predict)\n",
    "print('R2 Square Error for Ridge regression',ridge_r2_score)"
   ]
  },
  {
   "cell_type": "markdown",
   "metadata": {},
   "source": [
    "### Residual Plot in Ridge Regression"
   ]
  },
  {
   "cell_type": "code",
   "execution_count": null,
   "metadata": {},
   "outputs": [],
   "source": [
    "matplotlib.rcParams['figure.figsize'] = (6.0, 6.0)\n",
    "\n",
    "preds = pd.DataFrame({\"preds\":model.predict(train_X_temp), \"true\":train_y_temp})\n",
    "preds[\"residuals\"] = preds[\"true\"] - preds[\"preds\"]\n",
    "preds.plot(x = \"preds\", y = \"residuals\",kind = \"scatter\")\n",
    "plt.xlabel(\"Predictions\")\n",
    "plt.ylabel(\"Residuals\")\n",
    "plt.title(\"Residual plot in Ridge Regression\")"
   ]
  },
  {
   "cell_type": "markdown",
   "metadata": {},
   "source": [
    "### Knn Algorithm"
   ]
  },
  {
   "cell_type": "code",
   "execution_count": null,
   "metadata": {},
   "outputs": [],
   "source": [
    "from sklearn.preprocessing import StandardScaler\n",
    "\n",
    "x_scaled=StandardScaler()\n",
    "train_X_temp[['Wind Speed','Visibility','Cloud Cover','Relative Humidity']] = x_scaled.fit_transform(train_X_temp[['Wind Speed','Visibility','Cloud Cover','Relative Humidity']])\n",
    "\n",
    "x_test_scaled= StandardScaler()\n",
    "test_X_temp[['Wind Speed','Visibility','Cloud Cover','Relative Humidity']]=x_test_scaled.fit_transform(test_X_temp[['Wind Speed','Visibility','Cloud Cover','Relative Humidity']])"
   ]
  },
  {
   "cell_type": "code",
   "execution_count": null,
   "metadata": {},
   "outputs": [],
   "source": [
    "from sklearn import neighbors\n",
    "n_neighbors=5\n",
    "knn=neighbors.KNeighborsRegressor(n_neighbors,weights='uniform')\n",
    "knn.fit(train_X_temp,train_y_temp)\n",
    "y1_knn=knn.predict(test_X_temp)"
   ]
  },
  {
   "cell_type": "code",
   "execution_count": null,
   "metadata": {},
   "outputs": [],
   "source": [
    "# Predicting over the Train Set and calculating error\n",
    "train_predict = knn.predict(train_X_temp)\n",
    "knn_train_error = mse(train_predict, train_y_temp)\n",
    "print('Training Root Mean Squared Error', math.sqrt(knn_train_error) )"
   ]
  },
  {
   "cell_type": "code",
   "execution_count": null,
   "metadata": {},
   "outputs": [],
   "source": [
    "# Predicting over the Test Set and calculating error\n",
    "test_predict = knn.predict(test_X_temp)\n",
    "knn_test_error = mse(test_y_temp, test_predict)\n",
    "print('Test Root Mean Squared Error', math.sqrt(knn_test_error) )\n",
    "knn_r2_score = r2_score(test_y_temp,test_predict)\n",
    "print('R2 Square Error for KNN regression',knn_r2_score)"
   ]
  },
  {
   "cell_type": "markdown",
   "metadata": {},
   "source": [
    "### Residual plot in KNN"
   ]
  },
  {
   "cell_type": "code",
   "execution_count": null,
   "metadata": {},
   "outputs": [],
   "source": [
    "preds = pd.DataFrame({\"preds\":knn.predict(train_X_temp), \"true\":train_y_temp})\n",
    "preds[\"residuals\"] = preds[\"true\"] - preds[\"preds\"]\n",
    "preds.plot(x = \"preds\", y = \"residuals\",kind = \"scatter\")\n",
    "plt.xlabel(\"Predictions\")\n",
    "plt.ylabel(\"Residuals\")\n",
    "plt.title(\"Residual plot in KNN Regression\")"
   ]
  },
  {
   "cell_type": "markdown",
   "metadata": {},
   "source": [
    "### Gradient Boosting Regressor"
   ]
  },
  {
   "cell_type": "code",
   "execution_count": null,
   "metadata": {},
   "outputs": [],
   "source": [
    "from xgboost import XGBRegressor\n",
    "xgb = XGBRegressor()\n",
    "xgb.fit(train_X_temp,train_y_temp)"
   ]
  },
  {
   "cell_type": "code",
   "execution_count": null,
   "metadata": {},
   "outputs": [],
   "source": [
    "# Predicting over the Train Set and calculating error\n",
    "train_predict = xgb.predict(train_X_temp)\n",
    "xgb_train_error = mse(train_predict, train_y_temp)\n",
    "print('Training Root Mean Squared Error', math.sqrt(xgb_train_error) )"
   ]
  },
  {
   "cell_type": "code",
   "execution_count": null,
   "metadata": {},
   "outputs": [],
   "source": [
    "# Predicting over the Test Set and calculating error\n",
    "test_predict = xgb.predict(test_X_temp)\n",
    "xgb_test_error = mse(test_y_temp, test_predict)\n",
    "print('Test Root Mean Squared Error', math.sqrt(xgb_test_error) )\n",
    "xgb_r2_score = r2_score(test_y_temp,test_predict)\n",
    "print('R2 Square Error for Gradient Boosting regression',xgb_r2_score)"
   ]
  },
  {
   "cell_type": "markdown",
   "metadata": {},
   "source": [
    "### Residual plot in Gradient Boosting"
   ]
  },
  {
   "cell_type": "code",
   "execution_count": null,
   "metadata": {},
   "outputs": [],
   "source": [
    "preds = pd.DataFrame({\"preds\":xgb.predict(train_X_temp), \"true\":train_y_temp})\n",
    "preds[\"residuals\"] = preds[\"true\"] - preds[\"preds\"]\n",
    "preds.plot(x = \"preds\", y = \"residuals\",kind = \"scatter\")\n",
    "plt.xlabel(\"Predictions\")\n",
    "plt.ylabel(\"Residuals\")\n",
    "plt.title(\"Residual plot in Random Forest Regression\")"
   ]
  },
  {
   "cell_type": "markdown",
   "metadata": {},
   "source": [
    "### Decision Tree Regressor"
   ]
  },
  {
   "cell_type": "code",
   "execution_count": null,
   "metadata": {},
   "outputs": [],
   "source": [
    "from sklearn import tree\n",
    "dec = tree.DecisionTreeRegressor(max_depth=1)\n",
    "dec.fit(train_X_temp,train_y_temp)"
   ]
  },
  {
   "cell_type": "code",
   "execution_count": null,
   "metadata": {},
   "outputs": [],
   "source": [
    "# Predicting over the Train Set and calculating error\n",
    "train_predict = dec.predict(train_X_temp)\n",
    "dec_train_error = mse(train_predict, train_y_temp)\n",
    "print('Training Root Mean Squared Error', math.sqrt(dec_train_error) )"
   ]
  },
  {
   "cell_type": "code",
   "execution_count": null,
   "metadata": {},
   "outputs": [],
   "source": [
    "# Predicting over the Test Set and calculating error\n",
    "test_predict = dec.predict(test_X_temp)\n",
    "dec_test_error = mse(test_y_temp, test_predict)\n",
    "print('Test Root Mean Squared Error', math.sqrt(dec_test_error) )\n",
    "dc_r2_score = r2_score(test_y_temp,test_predict)\n",
    "print('R2 Square Error for Decision Tree regression',dc_r2_score)"
   ]
  },
  {
   "cell_type": "markdown",
   "metadata": {},
   "source": [
    "### Residual Plot in Decision Tree Regressor"
   ]
  },
  {
   "cell_type": "code",
   "execution_count": null,
   "metadata": {},
   "outputs": [],
   "source": [
    "preds = pd.DataFrame({\"preds\":dec.predict(train_X_temp), \"true\":train_y_temp})\n",
    "preds[\"residuals\"] = preds[\"true\"] - preds[\"preds\"]\n",
    "preds.plot(x = \"preds\", y = \"residuals\",kind = \"scatter\")\n",
    "plt.xlabel(\"Predictions\")\n",
    "plt.ylabel(\"Residuals\")\n",
    "plt.title(\"Residual plot in Decision Tree Regression\")"
   ]
  },
  {
   "cell_type": "markdown",
   "metadata": {},
   "source": [
    "###  Support Vector Regression for Temperature"
   ]
  },
  {
   "cell_type": "markdown",
   "metadata": {},
   "source": [
    "#### Pre processing features"
   ]
  },
  {
   "cell_type": "code",
   "execution_count": null,
   "metadata": {},
   "outputs": [],
   "source": [
    "from sklearn.svm import SVR\n",
    "\n",
    "model1=SVR(kernel=\"linear\")\n",
    "\n",
    "model1.fit(train_X_temp,train_y_temp)\n",
    "pred1=model1.predict(test_X_temp)"
   ]
  },
  {
   "cell_type": "code",
   "execution_count": null,
   "metadata": {},
   "outputs": [],
   "source": [
    "# Predicting over the Train Set and calculating error\n",
    "train_predict = model1.predict(train_X_temp)\n",
    "svm_train_error = mse(train_predict, train_y_temp)\n",
    "print('Training Root Mean Squared Error', math.sqrt(svm_train_error) )"
   ]
  },
  {
   "cell_type": "code",
   "execution_count": null,
   "metadata": {},
   "outputs": [],
   "source": [
    "# Predicting over the Test Set and calculating error\n",
    "test_predict = model1.predict(test_X_temp)\n",
    "svm_test_error = mse(test_y_temp, test_predict)\n",
    "print('Test Root Mean Squared Error', math.sqrt(svm_test_error) )\n",
    "svm_r2_score = r2_score(test_y_temp,test_predict)\n",
    "print('R2 Square Error for SVM regression',svm_r2_score)"
   ]
  },
  {
   "cell_type": "markdown",
   "metadata": {},
   "source": [
    "### Residual Plot for Support Vector Machine"
   ]
  },
  {
   "cell_type": "code",
   "execution_count": null,
   "metadata": {},
   "outputs": [],
   "source": [
    "preds = pd.DataFrame({\"preds\":model1.predict(train_X_temp), \"true\":train_y_temp})\n",
    "preds[\"residuals\"] = preds[\"true\"] - preds[\"preds\"]\n",
    "preds.plot(x = \"preds\", y = \"residuals\",kind = \"scatter\")\n",
    "plt.xlabel(\"Predictions\")\n",
    "plt.ylabel(\"Residuals\")\n",
    "plt.title(\"Residual plot in Support Vector Regression\")"
   ]
  },
  {
   "cell_type": "markdown",
   "metadata": {},
   "source": [
    "### Getting the Graph for all Models RMSE"
   ]
  },
  {
   "cell_type": "code",
   "execution_count": null,
   "metadata": {},
   "outputs": [],
   "source": [
    "train_error=[ridge_train_error,knn_train_error,xgb_train_error,dec_train_error,svm_train_error]\n",
    "test_error=[ridge_test_error,knn_test_error,xgb_test_error,dec_test_error,svm_test_error]\n",
    "\n",
    "col={'Train RMSE':[math.sqrt(i) for i in train_error],\n",
    "         'Test RMSE':[math.sqrt(i) for i in test_error]}\n",
    "models=['Ridge Regression','K-Nearest','XGBoost Regressor','Decision Tree','SVM']\n",
    "df=pd.DataFrame(data=col,index=models)\n",
    "df"
   ]
  },
  {
   "cell_type": "code",
   "execution_count": null,
   "metadata": {},
   "outputs": [],
   "source": [
    "df.plot(kind='bar')\n",
    "plt.xticks(rotation=70)\n",
    "plt.title(\"Comparision of Various algorithms for Temperature prediction in the Last 50 Years\")\n",
    "plt.show()"
   ]
  },
  {
   "cell_type": "markdown",
   "metadata": {},
   "source": [
    "### Getting the Graph for all Models Test R2 Square Error"
   ]
  },
  {
   "cell_type": "code",
   "execution_count": null,
   "metadata": {},
   "outputs": [],
   "source": [
    "test_r2_square_error=[ridge_r2_score,knn_r2_score,xgb_r2_score,dc_r2_score,svm_r2_score]\n",
    "\n",
    "col={'Test R2 Square Error':[i for i in test_r2_square_error]}\n",
    "models=['Ridge Regression','K-Nearest','Gradent Boost','Decision Tree','SVM']\n",
    "df=pd.DataFrame(data=col,index=models)\n",
    "df"
   ]
  },
  {
   "cell_type": "code",
   "execution_count": null,
   "metadata": {},
   "outputs": [],
   "source": [
    "df.plot(kind='bar')\n",
    "plt.xticks(rotation=40)\n",
    "plt.title(\"R2 Square for Various Models\")"
   ]
  },
  {
   "cell_type": "markdown",
   "metadata": {},
   "source": [
    "#### Segregating variables: Independent and Dependent Variables for Precipitation"
   ]
  },
  {
   "cell_type": "code",
   "execution_count": null,
   "metadata": {},
   "outputs": [],
   "source": [
    "X_prec=df_aus.drop(columns=['Precipitation','Name','Date time','Maximum Temperature','Minimum Temperature','Temperature'],axis=1)\n",
    "Y_prec=df_aus.Precipitation"
   ]
  },
  {
   "cell_type": "code",
   "execution_count": null,
   "metadata": {},
   "outputs": [],
   "source": [
    "X_prec.head()"
   ]
  },
  {
   "cell_type": "markdown",
   "metadata": {},
   "source": [
    "#### Importing the train test split function for Precipitation"
   ]
  },
  {
   "cell_type": "code",
   "execution_count": null,
   "metadata": {},
   "outputs": [],
   "source": [
    "train_X_prec,test_X_prec,train_y_prec,test_y_prec = train_test_split(X_prec,Y_prec)"
   ]
  },
  {
   "cell_type": "markdown",
   "metadata": {},
   "source": [
    "### Ridge Regression"
   ]
  },
  {
   "cell_type": "code",
   "execution_count": null,
   "metadata": {},
   "outputs": [],
   "source": [
    "model=linear_model.Ridge()\n",
    "model.fit(train_X_prec,train_y_prec)\n",
    "y_predict=model.predict(test_X_prec)"
   ]
  },
  {
   "cell_type": "code",
   "execution_count": null,
   "metadata": {},
   "outputs": [],
   "source": [
    "# Predicting over the Train Set and calculating error\n",
    "train_predict = model.predict(train_X_prec)\n",
    "ridge_train_error = mse(train_predict, train_y_prec)\n",
    "print('Training Root Mean Squared Error', math.sqrt(ridge_train_error) )"
   ]
  },
  {
   "cell_type": "code",
   "execution_count": null,
   "metadata": {},
   "outputs": [],
   "source": [
    "# Predicting over the Test Set and calculating error\n",
    "test_predict = model.predict(test_X_prec)\n",
    "ridge_test_error = mse(test_y_prec, test_predict)\n",
    "print('Test Root Mean Squared Error', math.sqrt(ridge_test_error) )"
   ]
  },
  {
   "cell_type": "markdown",
   "metadata": {},
   "source": [
    "### Knn Algorithm"
   ]
  },
  {
   "cell_type": "code",
   "execution_count": null,
   "metadata": {},
   "outputs": [],
   "source": [
    "#Preprocessing features\n",
    "x_scaled=StandardScaler()\n",
    "train_X_prec[['Wind Speed','Visibility','Cloud Cover','Relative Humidity']] = x_scaled.fit_transform(train_X_prec[['Wind Speed','Visibility','Cloud Cover','Relative Humidity']])\n",
    "\n",
    "x_test_scaled= StandardScaler()\n",
    "test_X_prec[['Wind Speed','Visibility','Cloud Cover','Relative Humidity']]=x_test_scaled.fit_transform(test_X_prec[['Wind Speed','Visibility','Cloud Cover','Relative Humidity']])"
   ]
  },
  {
   "cell_type": "code",
   "execution_count": null,
   "metadata": {},
   "outputs": [],
   "source": [
    "n_neighbors=5\n",
    "knn=neighbors.KNeighborsRegressor(n_neighbors,weights='uniform')\n",
    "knn.fit(train_X_prec,train_y_prec)\n",
    "y1_knn=knn.predict(test_X_prec)"
   ]
  },
  {
   "cell_type": "code",
   "execution_count": null,
   "metadata": {},
   "outputs": [],
   "source": [
    "# Predicting over the Train Set and calculating error\n",
    "train_predict = knn.predict(train_X_prec)\n",
    "knn_train_error = mse(train_predict, train_y_prec)\n",
    "print('Training Root Mean Squared Error', math.sqrt(knn_train_error) )"
   ]
  },
  {
   "cell_type": "code",
   "execution_count": null,
   "metadata": {},
   "outputs": [],
   "source": [
    "# Predicting over the Test Set and calculating error\n",
    "test_predict = knn.predict(test_X_prec)\n",
    "knn_test_error = mse(test_y_prec, test_predict)\n",
    "print('Test Root Mean Squared Error', math.sqrt(knn_test_error) )"
   ]
  },
  {
   "cell_type": "markdown",
   "metadata": {},
   "source": [
    "### Decision Tree Regressor"
   ]
  },
  {
   "cell_type": "code",
   "execution_count": null,
   "metadata": {},
   "outputs": [],
   "source": [
    "dec = tree.DecisionTreeRegressor(max_depth=1)\n",
    "dec.fit(train_X_prec,train_y_prec)"
   ]
  },
  {
   "cell_type": "code",
   "execution_count": null,
   "metadata": {},
   "outputs": [],
   "source": [
    "# Predicting over the Train Set and calculating error\n",
    "train_predict = dec.predict(train_X_prec)\n",
    "dec_train_error = mse(train_predict, train_y_prec)\n",
    "print('Training Root Mean Squared Error', math.sqrt(dec_train_error) )"
   ]
  },
  {
   "cell_type": "code",
   "execution_count": null,
   "metadata": {},
   "outputs": [],
   "source": [
    "# Predicting over the Test Set and calculating error\n",
    "test_predict = dec.predict(test_X_prec)\n",
    "dec_test_error = mse(test_y_prec, test_predict)\n",
    "print('Test Root Mean Squared Error', math.sqrt(dec_test_error) )"
   ]
  },
  {
   "cell_type": "markdown",
   "metadata": {},
   "source": [
    "### Gradient Boosting Regressor"
   ]
  },
  {
   "cell_type": "code",
   "execution_count": null,
   "metadata": {},
   "outputs": [],
   "source": [
    "xgb = XGBRegressor()\n",
    "xgb.fit(train_X_prec,train_y_prec)"
   ]
  },
  {
   "cell_type": "code",
   "execution_count": null,
   "metadata": {},
   "outputs": [],
   "source": [
    "# Predicting over the Train Set and calculating error\n",
    "train_predict = xgb.predict(train_X_prec)\n",
    "xgb_train_error = mse(train_predict, train_y_prec)\n",
    "print('Training Root Mean Squared Error', math.sqrt(xgb_train_error) )"
   ]
  },
  {
   "cell_type": "code",
   "execution_count": null,
   "metadata": {},
   "outputs": [],
   "source": [
    "# Predicting over the Test Set and calculating error\n",
    "test_predict = xgb.predict(test_X_prec)\n",
    "xgb_test_error = mse(test_y_prec, test_predict)\n",
    "print('Test Root Mean Squared Error', math.sqrt(xgb_test_error) )"
   ]
  },
  {
   "cell_type": "markdown",
   "metadata": {},
   "source": [
    "### Support Vector Regression for Precipitation"
   ]
  },
  {
   "cell_type": "code",
   "execution_count": null,
   "metadata": {},
   "outputs": [],
   "source": [
    "model1=SVR(kernel=\"linear\")\n",
    "\n",
    "model1.fit(train_X_prec,train_y_prec)\n",
    "pred1=model1.predict(test_X_prec)"
   ]
  },
  {
   "cell_type": "code",
   "execution_count": null,
   "metadata": {},
   "outputs": [],
   "source": [
    "# Predicting over the Train Set and calculating error\n",
    "train_predict = model1.predict(train_X_prec)\n",
    "svm_train_error = mse(train_predict, train_y_prec)\n",
    "print('Training Root Mean Squared Error', math.sqrt(svm_train_error) )"
   ]
  },
  {
   "cell_type": "code",
   "execution_count": null,
   "metadata": {},
   "outputs": [],
   "source": [
    "# Predicting over the Test Set and calculating error\n",
    "test_predict = model1.predict(test_X_prec)\n",
    "svm_test_error = mse(test_y_prec, test_predict)\n",
    "print('Test Root Mean Squared Error', math.sqrt(svm_test_error) )"
   ]
  },
  {
   "cell_type": "markdown",
   "metadata": {},
   "source": [
    "### Getting the Graph for all Models RMSE"
   ]
  },
  {
   "cell_type": "code",
   "execution_count": null,
   "metadata": {},
   "outputs": [],
   "source": [
    "train_error=[ridge_train_error,knn_train_error,xgb_train_error,dec_train_error,svm_train_error]\n",
    "test_error=[ridge_test_error,knn_test_error,xgb_test_error,dec_test_error,svm_test_error]\n",
    "\n",
    "col={'Train RMSE':[math.sqrt(i) for i in train_error],\n",
    "         'Test RMSE':[math.sqrt(i) for i in test_error]}\n",
    "models=['Ridge Regression','K-Nearest','XGBoost regressor','Decision Tree','SVM']\n",
    "df=pd.DataFrame(data=col,index=models)\n",
    "df"
   ]
  },
  {
   "cell_type": "code",
   "execution_count": null,
   "metadata": {},
   "outputs": [],
   "source": [
    "df.plot(kind='bar')\n",
    "plt.xticks(rotation=70)\n",
    "plt.title(\"Comparision of Various algorithms for Precipitation prediction in the Last 50 Years\")\n",
    "plt.legend(loc='lower right')\n",
    "plt.show()"
   ]
  },
  {
   "cell_type": "code",
   "execution_count": null,
   "metadata": {},
   "outputs": [],
   "source": []
  }
 ],
 "metadata": {
  "kernelspec": {
   "display_name": "Python 3",
   "language": "python",
   "name": "python3"
  },
  "language_info": {
   "codemirror_mode": {
    "name": "ipython",
    "version": 3
   },
   "file_extension": ".py",
   "mimetype": "text/x-python",
   "name": "python",
   "nbconvert_exporter": "python",
   "pygments_lexer": "ipython3",
   "version": "3.7.3"
  }
 },
 "nbformat": 4,
 "nbformat_minor": 4
}
